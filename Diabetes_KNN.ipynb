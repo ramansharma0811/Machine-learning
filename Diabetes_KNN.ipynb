{
 "cells": [
  {
   "cell_type": "markdown",
   "metadata": {},
   "source": [
    "# Context\n",
    "This dataset is originally from the National Institute of Diabetes and Digestive and Kidney Diseases. The objective of the dataset is to diagnostically predict whether or not a patient has diabetes, based on certain diagnostic measurements included in the dataset. Several constraints were placed on the selection of these instances from a larger database. In particular, all patients here are females at least 21 years old of Pima Indian heritage.\n",
    "\n",
    "# Content\n",
    "The datasets consists of several medical predictor variables and one target variable, Outcome. Predictor variables includes the number of pregnancies the patient has had, their BMI, insulin level, age, and so on."
   ]
  },
  {
   "cell_type": "code",
   "execution_count": 63,
   "metadata": {},
   "outputs": [],
   "source": [
    "#importing the libraries\n",
    "import numpy as np\n",
    "import pandas as pd\n",
    "import matplotlib.pyplot as plt\n",
    "from scipy import stats\n",
    "import seaborn as sns\n",
    "\n",
    "import warnings\n",
    "warnings.filterwarnings('ignore')\n",
    "\n",
    "import pandas.api.types as typeop\n",
    "#from pandas_visual_analysis import VisualAnalysis"
   ]
  },
  {
   "cell_type": "code",
   "execution_count": 64,
   "metadata": {},
   "outputs": [],
   "source": [
    "#Loading the data\n",
    "import os\n",
    "os.chdir(\"C:\\\\Users\\\\Raman\\\\Desktop\\\\praxis_study_material\\\\IML\")\n",
    "\n",
    "diabetes_data = pd.read_csv(\"diabetes.csv\")"
   ]
  },
  {
   "cell_type": "code",
   "execution_count": 65,
   "metadata": {},
   "outputs": [
    {
     "data": {
      "text/html": [
       "<div>\n",
       "<style scoped>\n",
       "    .dataframe tbody tr th:only-of-type {\n",
       "        vertical-align: middle;\n",
       "    }\n",
       "\n",
       "    .dataframe tbody tr th {\n",
       "        vertical-align: top;\n",
       "    }\n",
       "\n",
       "    .dataframe thead th {\n",
       "        text-align: right;\n",
       "    }\n",
       "</style>\n",
       "<table border=\"1\" class=\"dataframe\">\n",
       "  <thead>\n",
       "    <tr style=\"text-align: right;\">\n",
       "      <th></th>\n",
       "      <th>Pregnancies</th>\n",
       "      <th>Glucose</th>\n",
       "      <th>BloodPressure</th>\n",
       "      <th>SkinThickness</th>\n",
       "      <th>Insulin</th>\n",
       "      <th>BMI</th>\n",
       "      <th>DiabetesPedigreeFunction</th>\n",
       "      <th>Age</th>\n",
       "      <th>Outcome</th>\n",
       "    </tr>\n",
       "  </thead>\n",
       "  <tbody>\n",
       "    <tr>\n",
       "      <th>169</th>\n",
       "      <td>3</td>\n",
       "      <td>111</td>\n",
       "      <td>90</td>\n",
       "      <td>12</td>\n",
       "      <td>78</td>\n",
       "      <td>28.4</td>\n",
       "      <td>0.495</td>\n",
       "      <td>29</td>\n",
       "      <td>0</td>\n",
       "    </tr>\n",
       "    <tr>\n",
       "      <th>38</th>\n",
       "      <td>2</td>\n",
       "      <td>90</td>\n",
       "      <td>68</td>\n",
       "      <td>42</td>\n",
       "      <td>0</td>\n",
       "      <td>38.2</td>\n",
       "      <td>0.503</td>\n",
       "      <td>27</td>\n",
       "      <td>1</td>\n",
       "    </tr>\n",
       "    <tr>\n",
       "      <th>158</th>\n",
       "      <td>2</td>\n",
       "      <td>88</td>\n",
       "      <td>74</td>\n",
       "      <td>19</td>\n",
       "      <td>53</td>\n",
       "      <td>29.0</td>\n",
       "      <td>0.229</td>\n",
       "      <td>22</td>\n",
       "      <td>0</td>\n",
       "    </tr>\n",
       "    <tr>\n",
       "      <th>681</th>\n",
       "      <td>0</td>\n",
       "      <td>162</td>\n",
       "      <td>76</td>\n",
       "      <td>36</td>\n",
       "      <td>0</td>\n",
       "      <td>49.6</td>\n",
       "      <td>0.364</td>\n",
       "      <td>26</td>\n",
       "      <td>1</td>\n",
       "    </tr>\n",
       "    <tr>\n",
       "      <th>331</th>\n",
       "      <td>2</td>\n",
       "      <td>87</td>\n",
       "      <td>58</td>\n",
       "      <td>16</td>\n",
       "      <td>52</td>\n",
       "      <td>32.7</td>\n",
       "      <td>0.166</td>\n",
       "      <td>25</td>\n",
       "      <td>0</td>\n",
       "    </tr>\n",
       "  </tbody>\n",
       "</table>\n",
       "</div>"
      ],
      "text/plain": [
       "     Pregnancies  Glucose  BloodPressure  SkinThickness  Insulin   BMI  \\\n",
       "169            3      111             90             12       78  28.4   \n",
       "38             2       90             68             42        0  38.2   \n",
       "158            2       88             74             19       53  29.0   \n",
       "681            0      162             76             36        0  49.6   \n",
       "331            2       87             58             16       52  32.7   \n",
       "\n",
       "     DiabetesPedigreeFunction  Age  Outcome  \n",
       "169                     0.495   29        0  \n",
       "38                      0.503   27        1  \n",
       "158                     0.229   22        0  \n",
       "681                     0.364   26        1  \n",
       "331                     0.166   25        0  "
      ]
     },
     "execution_count": 65,
     "metadata": {},
     "output_type": "execute_result"
    }
   ],
   "source": [
    "#checking of the data,what does it include and all\n",
    "diabetes_data.sample(5)"
   ]
  },
  {
   "cell_type": "markdown",
   "metadata": {},
   "source": [
    "Pregnancies: Number of times pregnant\n",
    "\n",
    "Glucose: Plasma glucose concentration over 2 hours in an oral glucose tolerance test\n",
    "\n",
    "BloodPressure(BP): Diastolic blood pressure (mm Hg)\n",
    "\n",
    "SkinThickness(ST): Triceps skin fold thickness (mm)\n",
    "\n",
    "Insulin: 2-Hour serum insulin (mu U/ml)\n",
    "\n",
    "BMI: Body mass index (weight in kg/(height in m)2)\n",
    "\n",
    "DiabetesPedigreeFunction(DPF):a function which scores likelihood of diabetes based on family history\n",
    "\n",
    "Age: years\n",
    "\n",
    "Outcome: Class variable (0 if non-diabetic, 1 if diabetic)\n"
   ]
  },
  {
   "cell_type": "markdown",
   "metadata": {},
   "source": [
    "Do we have any NA values?\n",
    "\n",
    "Do we have any values which are not possible in real life.(if yes count where and how many times)\n",
    "\n",
    "What is the Avg BMI of the person?\n",
    "\n",
    "Which is the min age and max age in the dataset?\n",
    "\n",
    "Are there any outliers in variables if we compare to real life ?\n",
    "\n",
    "\n",
    "pregnancies-descrete-(can have zero)\n",
    "\n",
    "Glucose-descrete-(cannot have zero)\n",
    "\n",
    "BP-descrete-(cannot have zero)\n",
    "\n",
    "ST-descrete-(cannot have zero)\n",
    "\n",
    "Insulin-descrete-(cannot have zero)\n",
    "\n",
    "BMI-continuous-(cannot have zero)\n",
    "\n",
    "DPF-continuous-(doesnot have zero)\n",
    "\n",
    "AGE-descrete-(can have zero)\n",
    "\n",
    "OUTCOME- 0(non diabetic) or 1(diabetic)"
   ]
  },
  {
   "cell_type": "code",
   "execution_count": 66,
   "metadata": {},
   "outputs": [
    {
     "data": {
      "text/html": [
       "<div>\n",
       "<style scoped>\n",
       "    .dataframe tbody tr th:only-of-type {\n",
       "        vertical-align: middle;\n",
       "    }\n",
       "\n",
       "    .dataframe tbody tr th {\n",
       "        vertical-align: top;\n",
       "    }\n",
       "\n",
       "    .dataframe thead th {\n",
       "        text-align: right;\n",
       "    }\n",
       "</style>\n",
       "<table border=\"1\" class=\"dataframe\">\n",
       "  <thead>\n",
       "    <tr style=\"text-align: right;\">\n",
       "      <th></th>\n",
       "      <th>count</th>\n",
       "      <th>mean</th>\n",
       "      <th>std</th>\n",
       "      <th>min</th>\n",
       "      <th>25%</th>\n",
       "      <th>50%</th>\n",
       "      <th>75%</th>\n",
       "      <th>max</th>\n",
       "    </tr>\n",
       "  </thead>\n",
       "  <tbody>\n",
       "    <tr>\n",
       "      <th>Pregnancies</th>\n",
       "      <td>768.0</td>\n",
       "      <td>3.845052</td>\n",
       "      <td>3.369578</td>\n",
       "      <td>0.000</td>\n",
       "      <td>1.00000</td>\n",
       "      <td>3.0000</td>\n",
       "      <td>6.00000</td>\n",
       "      <td>17.00</td>\n",
       "    </tr>\n",
       "    <tr>\n",
       "      <th>Glucose</th>\n",
       "      <td>768.0</td>\n",
       "      <td>120.894531</td>\n",
       "      <td>31.972618</td>\n",
       "      <td>0.000</td>\n",
       "      <td>99.00000</td>\n",
       "      <td>117.0000</td>\n",
       "      <td>140.25000</td>\n",
       "      <td>199.00</td>\n",
       "    </tr>\n",
       "    <tr>\n",
       "      <th>BloodPressure</th>\n",
       "      <td>768.0</td>\n",
       "      <td>69.105469</td>\n",
       "      <td>19.355807</td>\n",
       "      <td>0.000</td>\n",
       "      <td>62.00000</td>\n",
       "      <td>72.0000</td>\n",
       "      <td>80.00000</td>\n",
       "      <td>122.00</td>\n",
       "    </tr>\n",
       "    <tr>\n",
       "      <th>SkinThickness</th>\n",
       "      <td>768.0</td>\n",
       "      <td>20.536458</td>\n",
       "      <td>15.952218</td>\n",
       "      <td>0.000</td>\n",
       "      <td>0.00000</td>\n",
       "      <td>23.0000</td>\n",
       "      <td>32.00000</td>\n",
       "      <td>99.00</td>\n",
       "    </tr>\n",
       "    <tr>\n",
       "      <th>Insulin</th>\n",
       "      <td>768.0</td>\n",
       "      <td>79.799479</td>\n",
       "      <td>115.244002</td>\n",
       "      <td>0.000</td>\n",
       "      <td>0.00000</td>\n",
       "      <td>30.5000</td>\n",
       "      <td>127.25000</td>\n",
       "      <td>846.00</td>\n",
       "    </tr>\n",
       "    <tr>\n",
       "      <th>BMI</th>\n",
       "      <td>768.0</td>\n",
       "      <td>31.992578</td>\n",
       "      <td>7.884160</td>\n",
       "      <td>0.000</td>\n",
       "      <td>27.30000</td>\n",
       "      <td>32.0000</td>\n",
       "      <td>36.60000</td>\n",
       "      <td>67.10</td>\n",
       "    </tr>\n",
       "    <tr>\n",
       "      <th>DiabetesPedigreeFunction</th>\n",
       "      <td>768.0</td>\n",
       "      <td>0.471876</td>\n",
       "      <td>0.331329</td>\n",
       "      <td>0.078</td>\n",
       "      <td>0.24375</td>\n",
       "      <td>0.3725</td>\n",
       "      <td>0.62625</td>\n",
       "      <td>2.42</td>\n",
       "    </tr>\n",
       "    <tr>\n",
       "      <th>Age</th>\n",
       "      <td>768.0</td>\n",
       "      <td>33.240885</td>\n",
       "      <td>11.760232</td>\n",
       "      <td>21.000</td>\n",
       "      <td>24.00000</td>\n",
       "      <td>29.0000</td>\n",
       "      <td>41.00000</td>\n",
       "      <td>81.00</td>\n",
       "    </tr>\n",
       "    <tr>\n",
       "      <th>Outcome</th>\n",
       "      <td>768.0</td>\n",
       "      <td>0.348958</td>\n",
       "      <td>0.476951</td>\n",
       "      <td>0.000</td>\n",
       "      <td>0.00000</td>\n",
       "      <td>0.0000</td>\n",
       "      <td>1.00000</td>\n",
       "      <td>1.00</td>\n",
       "    </tr>\n",
       "  </tbody>\n",
       "</table>\n",
       "</div>"
      ],
      "text/plain": [
       "                          count        mean         std     min       25%  \\\n",
       "Pregnancies               768.0    3.845052    3.369578   0.000   1.00000   \n",
       "Glucose                   768.0  120.894531   31.972618   0.000  99.00000   \n",
       "BloodPressure             768.0   69.105469   19.355807   0.000  62.00000   \n",
       "SkinThickness             768.0   20.536458   15.952218   0.000   0.00000   \n",
       "Insulin                   768.0   79.799479  115.244002   0.000   0.00000   \n",
       "BMI                       768.0   31.992578    7.884160   0.000  27.30000   \n",
       "DiabetesPedigreeFunction  768.0    0.471876    0.331329   0.078   0.24375   \n",
       "Age                       768.0   33.240885   11.760232  21.000  24.00000   \n",
       "Outcome                   768.0    0.348958    0.476951   0.000   0.00000   \n",
       "\n",
       "                               50%        75%     max  \n",
       "Pregnancies                 3.0000    6.00000   17.00  \n",
       "Glucose                   117.0000  140.25000  199.00  \n",
       "BloodPressure              72.0000   80.00000  122.00  \n",
       "SkinThickness              23.0000   32.00000   99.00  \n",
       "Insulin                    30.5000  127.25000  846.00  \n",
       "BMI                        32.0000   36.60000   67.10  \n",
       "DiabetesPedigreeFunction    0.3725    0.62625    2.42  \n",
       "Age                        29.0000   41.00000   81.00  \n",
       "Outcome                     0.0000    1.00000    1.00  "
      ]
     },
     "execution_count": 66,
     "metadata": {},
     "output_type": "execute_result"
    }
   ],
   "source": [
    "#description of the data\n",
    "diabetes_data.describe(include = 'all').T"
   ]
  },
  {
   "cell_type": "markdown",
   "metadata": {},
   "source": [
    "It summarizes the dataset. This method tells us a lot of things about a dataset.It is usually used for Numerical values but if we want to see the summary about the categorical values then we can pass df.describe(include='object').\n",
    "\n",
    "Now, let's understand the statistics that are generated by the describe() method:\n",
    "\n",
    "-count tells us the number of rows in a feature.\n",
    "\n",
    "-mean tells us the mean value of that feature.\n",
    "\n",
    "-std tells us the Standard Deviation Value of that feature.\n",
    "\n",
    "-min tells us the minimum value of that feature.\n",
    "\n",
    "-25%, 50%, and 75% are the Q1,Q2(median),Q3 of each features. This quartile information helps us to detect Outliers.\n",
    "-we can find out the outliers by using this formula; value less than this Q1-IQR*1.5 or greater than this Q3+IQR*1.5 is outlier.\n",
    "\n",
    "-max tells us the maximum value of that feature.\n"
   ]
  },
  {
   "cell_type": "code",
   "execution_count": 67,
   "metadata": {},
   "outputs": [],
   "source": [
    "#copying the data into another df.\n",
    "#we can copy the data by two ways; Deep or shallow\n",
    "diabetes_data_copy=diabetes_data.copy()"
   ]
  },
  {
   "cell_type": "code",
   "execution_count": 68,
   "metadata": {},
   "outputs": [
    {
     "data": {
      "text/html": [
       "<div>\n",
       "<style scoped>\n",
       "    .dataframe tbody tr th:only-of-type {\n",
       "        vertical-align: middle;\n",
       "    }\n",
       "\n",
       "    .dataframe tbody tr th {\n",
       "        vertical-align: top;\n",
       "    }\n",
       "\n",
       "    .dataframe thead th {\n",
       "        text-align: right;\n",
       "    }\n",
       "</style>\n",
       "<table border=\"1\" class=\"dataframe\">\n",
       "  <thead>\n",
       "    <tr style=\"text-align: right;\">\n",
       "      <th></th>\n",
       "      <th>Pregnancies</th>\n",
       "      <th>Glucose</th>\n",
       "      <th>BloodPressure</th>\n",
       "      <th>SkinThickness</th>\n",
       "      <th>Insulin</th>\n",
       "      <th>BMI</th>\n",
       "      <th>DiabetesPedigreeFunction</th>\n",
       "      <th>Age</th>\n",
       "      <th>Outcome</th>\n",
       "    </tr>\n",
       "  </thead>\n",
       "  <tbody>\n",
       "    <tr>\n",
       "      <th>0</th>\n",
       "      <td>6</td>\n",
       "      <td>148</td>\n",
       "      <td>72</td>\n",
       "      <td>35</td>\n",
       "      <td>0</td>\n",
       "      <td>33.6</td>\n",
       "      <td>0.627</td>\n",
       "      <td>50</td>\n",
       "      <td>1</td>\n",
       "    </tr>\n",
       "    <tr>\n",
       "      <th>1</th>\n",
       "      <td>1</td>\n",
       "      <td>85</td>\n",
       "      <td>66</td>\n",
       "      <td>29</td>\n",
       "      <td>0</td>\n",
       "      <td>26.6</td>\n",
       "      <td>0.351</td>\n",
       "      <td>31</td>\n",
       "      <td>0</td>\n",
       "    </tr>\n",
       "    <tr>\n",
       "      <th>2</th>\n",
       "      <td>8</td>\n",
       "      <td>183</td>\n",
       "      <td>64</td>\n",
       "      <td>0</td>\n",
       "      <td>0</td>\n",
       "      <td>23.3</td>\n",
       "      <td>0.672</td>\n",
       "      <td>32</td>\n",
       "      <td>1</td>\n",
       "    </tr>\n",
       "  </tbody>\n",
       "</table>\n",
       "</div>"
      ],
      "text/plain": [
       "   Pregnancies  Glucose  BloodPressure  SkinThickness  Insulin   BMI  \\\n",
       "0            6      148             72             35        0  33.6   \n",
       "1            1       85             66             29        0  26.6   \n",
       "2            8      183             64              0        0  23.3   \n",
       "\n",
       "   DiabetesPedigreeFunction  Age  Outcome  \n",
       "0                     0.627   50        1  \n",
       "1                     0.351   31        0  \n",
       "2                     0.672   32        1  "
      ]
     },
     "execution_count": 68,
     "metadata": {},
     "output_type": "execute_result"
    }
   ],
   "source": [
    "diabetes_data_copy.head(3)"
   ]
  },
  {
   "cell_type": "code",
   "execution_count": 69,
   "metadata": {},
   "outputs": [
    {
     "data": {
      "text/plain": [
       "pandas.core.frame.DataFrame"
      ]
     },
     "execution_count": 69,
     "metadata": {},
     "output_type": "execute_result"
    }
   ],
   "source": [
    "type(diabetes_data_copy)"
   ]
  },
  {
   "cell_type": "code",
   "execution_count": 70,
   "metadata": {},
   "outputs": [
    {
     "data": {
      "text/plain": [
       "(768, 9)"
      ]
     },
     "execution_count": 70,
     "metadata": {},
     "output_type": "execute_result"
    }
   ],
   "source": [
    "#tells us about the number of rows and column in the dataset\n",
    "diabetes_data_copy.shape"
   ]
  },
  {
   "cell_type": "code",
   "execution_count": 71,
   "metadata": {},
   "outputs": [
    {
     "data": {
      "text/plain": [
       "['Pregnancies',\n",
       " 'Glucose',\n",
       " 'BloodPressure',\n",
       " 'SkinThickness',\n",
       " 'Insulin',\n",
       " 'BMI',\n",
       " 'DiabetesPedigreeFunction',\n",
       " 'Age',\n",
       " 'Outcome']"
      ]
     },
     "execution_count": 71,
     "metadata": {},
     "output_type": "execute_result"
    }
   ],
   "source": [
    "#tells us about the column names\n",
    "list(diabetes_data_copy)"
   ]
  },
  {
   "cell_type": "code",
   "execution_count": 72,
   "metadata": {},
   "outputs": [
    {
     "data": {
      "text/plain": [
       "Pregnancies                   int64\n",
       "Glucose                       int64\n",
       "BloodPressure                 int64\n",
       "SkinThickness                 int64\n",
       "Insulin                       int64\n",
       "BMI                         float64\n",
       "DiabetesPedigreeFunction    float64\n",
       "Age                           int64\n",
       "Outcome                       int64\n",
       "dtype: object"
      ]
     },
     "execution_count": 72,
     "metadata": {},
     "output_type": "execute_result"
    }
   ],
   "source": [
    "#datatype of the variables present in the dataset\n",
    "diabetes_data_copy.dtypes"
   ]
  },
  {
   "cell_type": "markdown",
   "metadata": {},
   "source": [
    "Finding the Zeroes value in the dataset.\n",
    "If there are any unrealistic or NA values then we will impute the values accordingly. "
   ]
  },
  {
   "cell_type": "code",
   "execution_count": 73,
   "metadata": {},
   "outputs": [],
   "source": [
    "#we can identify what type of distribution the respective variables are following by mean,median,mode\n",
    "#if all are same mean = median = mode then it is normal distribution\n",
    "#if mean>median>mode then it is Right Skewed distribution\n",
    "#if mode>median>mean then it is Left skewed distribution"
   ]
  },
  {
   "cell_type": "code",
   "execution_count": 74,
   "metadata": {},
   "outputs": [
    {
     "name": "stdout",
     "output_type": "stream",
     "text": [
      "Median is: 117.0\n",
      "Mode is: ModeResult(mode=array([99], dtype=int64), count=array([17]))\n",
      "Total number of ZERO Values: 5\n"
     ]
    },
    {
     "data": {
      "text/html": [
       "<div>\n",
       "<style scoped>\n",
       "    .dataframe tbody tr th:only-of-type {\n",
       "        vertical-align: middle;\n",
       "    }\n",
       "\n",
       "    .dataframe tbody tr th {\n",
       "        vertical-align: top;\n",
       "    }\n",
       "\n",
       "    .dataframe thead th {\n",
       "        text-align: right;\n",
       "    }\n",
       "</style>\n",
       "<table border=\"1\" class=\"dataframe\">\n",
       "  <thead>\n",
       "    <tr style=\"text-align: right;\">\n",
       "      <th></th>\n",
       "      <th>Pregnancies</th>\n",
       "      <th>Glucose</th>\n",
       "      <th>BloodPressure</th>\n",
       "      <th>SkinThickness</th>\n",
       "      <th>Insulin</th>\n",
       "      <th>BMI</th>\n",
       "      <th>DiabetesPedigreeFunction</th>\n",
       "      <th>Age</th>\n",
       "      <th>Outcome</th>\n",
       "    </tr>\n",
       "  </thead>\n",
       "  <tbody>\n",
       "    <tr>\n",
       "      <th>75</th>\n",
       "      <td>1</td>\n",
       "      <td>0</td>\n",
       "      <td>48</td>\n",
       "      <td>20</td>\n",
       "      <td>0</td>\n",
       "      <td>24.7</td>\n",
       "      <td>0.140</td>\n",
       "      <td>22</td>\n",
       "      <td>0</td>\n",
       "    </tr>\n",
       "    <tr>\n",
       "      <th>182</th>\n",
       "      <td>1</td>\n",
       "      <td>0</td>\n",
       "      <td>74</td>\n",
       "      <td>20</td>\n",
       "      <td>23</td>\n",
       "      <td>27.7</td>\n",
       "      <td>0.299</td>\n",
       "      <td>21</td>\n",
       "      <td>0</td>\n",
       "    </tr>\n",
       "    <tr>\n",
       "      <th>342</th>\n",
       "      <td>1</td>\n",
       "      <td>0</td>\n",
       "      <td>68</td>\n",
       "      <td>35</td>\n",
       "      <td>0</td>\n",
       "      <td>32.0</td>\n",
       "      <td>0.389</td>\n",
       "      <td>22</td>\n",
       "      <td>0</td>\n",
       "    </tr>\n",
       "  </tbody>\n",
       "</table>\n",
       "</div>"
      ],
      "text/plain": [
       "     Pregnancies  Glucose  BloodPressure  SkinThickness  Insulin   BMI  \\\n",
       "75             1        0             48             20        0  24.7   \n",
       "182            1        0             74             20       23  27.7   \n",
       "342            1        0             68             35        0  32.0   \n",
       "\n",
       "     DiabetesPedigreeFunction  Age  Outcome  \n",
       "75                      0.140   22        0  \n",
       "182                     0.299   21        0  \n",
       "342                     0.389   22        0  "
      ]
     },
     "execution_count": 74,
     "metadata": {},
     "output_type": "execute_result"
    }
   ],
   "source": [
    "print('Median is:',np.median(diabetes_data_copy.Glucose))\n",
    "print('Mode is:',stats.mode(diabetes_data_copy.Glucose))\n",
    "print('Total number of ZERO Values:',np.sum(diabetes_data_copy.Glucose==0))\n",
    "diabetes_data_copy.loc[(diabetes_data_copy.Glucose==0)].head(3)"
   ]
  },
  {
   "cell_type": "code",
   "execution_count": 75,
   "metadata": {},
   "outputs": [
    {
     "name": "stdout",
     "output_type": "stream",
     "text": [
      "Median is: 72.0\n",
      "Mode is: ModeResult(mode=array([70], dtype=int64), count=array([57]))\n",
      "total number  ZERO Values: 35\n"
     ]
    },
    {
     "data": {
      "text/html": [
       "<div>\n",
       "<style scoped>\n",
       "    .dataframe tbody tr th:only-of-type {\n",
       "        vertical-align: middle;\n",
       "    }\n",
       "\n",
       "    .dataframe tbody tr th {\n",
       "        vertical-align: top;\n",
       "    }\n",
       "\n",
       "    .dataframe thead th {\n",
       "        text-align: right;\n",
       "    }\n",
       "</style>\n",
       "<table border=\"1\" class=\"dataframe\">\n",
       "  <thead>\n",
       "    <tr style=\"text-align: right;\">\n",
       "      <th></th>\n",
       "      <th>Pregnancies</th>\n",
       "      <th>Glucose</th>\n",
       "      <th>BloodPressure</th>\n",
       "      <th>SkinThickness</th>\n",
       "      <th>Insulin</th>\n",
       "      <th>BMI</th>\n",
       "      <th>DiabetesPedigreeFunction</th>\n",
       "      <th>Age</th>\n",
       "      <th>Outcome</th>\n",
       "    </tr>\n",
       "  </thead>\n",
       "  <tbody>\n",
       "    <tr>\n",
       "      <th>7</th>\n",
       "      <td>10</td>\n",
       "      <td>115</td>\n",
       "      <td>0</td>\n",
       "      <td>0</td>\n",
       "      <td>0</td>\n",
       "      <td>35.3</td>\n",
       "      <td>0.134</td>\n",
       "      <td>29</td>\n",
       "      <td>0</td>\n",
       "    </tr>\n",
       "    <tr>\n",
       "      <th>15</th>\n",
       "      <td>7</td>\n",
       "      <td>100</td>\n",
       "      <td>0</td>\n",
       "      <td>0</td>\n",
       "      <td>0</td>\n",
       "      <td>30.0</td>\n",
       "      <td>0.484</td>\n",
       "      <td>32</td>\n",
       "      <td>1</td>\n",
       "    </tr>\n",
       "    <tr>\n",
       "      <th>49</th>\n",
       "      <td>7</td>\n",
       "      <td>105</td>\n",
       "      <td>0</td>\n",
       "      <td>0</td>\n",
       "      <td>0</td>\n",
       "      <td>0.0</td>\n",
       "      <td>0.305</td>\n",
       "      <td>24</td>\n",
       "      <td>0</td>\n",
       "    </tr>\n",
       "  </tbody>\n",
       "</table>\n",
       "</div>"
      ],
      "text/plain": [
       "    Pregnancies  Glucose  BloodPressure  SkinThickness  Insulin   BMI  \\\n",
       "7            10      115              0              0        0  35.3   \n",
       "15            7      100              0              0        0  30.0   \n",
       "49            7      105              0              0        0   0.0   \n",
       "\n",
       "    DiabetesPedigreeFunction  Age  Outcome  \n",
       "7                      0.134   29        0  \n",
       "15                     0.484   32        1  \n",
       "49                     0.305   24        0  "
      ]
     },
     "execution_count": 75,
     "metadata": {},
     "output_type": "execute_result"
    }
   ],
   "source": [
    "print('Median is:',np.median(diabetes_data_copy.BloodPressure))\n",
    "print('Mode is:',stats.mode(diabetes_data_copy.BloodPressure))\n",
    "print('total number  ZERO Values:',np.sum(diabetes_data_copy.BloodPressure==0))\n",
    "diabetes_data_copy.loc[(diabetes_data_copy.BloodPressure==0)].head(3)"
   ]
  },
  {
   "cell_type": "code",
   "execution_count": 76,
   "metadata": {},
   "outputs": [
    {
     "name": "stdout",
     "output_type": "stream",
     "text": [
      "Median is: 23.0\n",
      "Mode is: ModeResult(mode=array([0], dtype=int64), count=array([227]))\n",
      "total number  ZERO Values: 227\n"
     ]
    },
    {
     "data": {
      "text/html": [
       "<div>\n",
       "<style scoped>\n",
       "    .dataframe tbody tr th:only-of-type {\n",
       "        vertical-align: middle;\n",
       "    }\n",
       "\n",
       "    .dataframe tbody tr th {\n",
       "        vertical-align: top;\n",
       "    }\n",
       "\n",
       "    .dataframe thead th {\n",
       "        text-align: right;\n",
       "    }\n",
       "</style>\n",
       "<table border=\"1\" class=\"dataframe\">\n",
       "  <thead>\n",
       "    <tr style=\"text-align: right;\">\n",
       "      <th></th>\n",
       "      <th>Pregnancies</th>\n",
       "      <th>Glucose</th>\n",
       "      <th>BloodPressure</th>\n",
       "      <th>SkinThickness</th>\n",
       "      <th>Insulin</th>\n",
       "      <th>BMI</th>\n",
       "      <th>DiabetesPedigreeFunction</th>\n",
       "      <th>Age</th>\n",
       "      <th>Outcome</th>\n",
       "    </tr>\n",
       "  </thead>\n",
       "  <tbody>\n",
       "    <tr>\n",
       "      <th>2</th>\n",
       "      <td>8</td>\n",
       "      <td>183</td>\n",
       "      <td>64</td>\n",
       "      <td>0</td>\n",
       "      <td>0</td>\n",
       "      <td>23.3</td>\n",
       "      <td>0.672</td>\n",
       "      <td>32</td>\n",
       "      <td>1</td>\n",
       "    </tr>\n",
       "    <tr>\n",
       "      <th>5</th>\n",
       "      <td>5</td>\n",
       "      <td>116</td>\n",
       "      <td>74</td>\n",
       "      <td>0</td>\n",
       "      <td>0</td>\n",
       "      <td>25.6</td>\n",
       "      <td>0.201</td>\n",
       "      <td>30</td>\n",
       "      <td>0</td>\n",
       "    </tr>\n",
       "    <tr>\n",
       "      <th>7</th>\n",
       "      <td>10</td>\n",
       "      <td>115</td>\n",
       "      <td>0</td>\n",
       "      <td>0</td>\n",
       "      <td>0</td>\n",
       "      <td>35.3</td>\n",
       "      <td>0.134</td>\n",
       "      <td>29</td>\n",
       "      <td>0</td>\n",
       "    </tr>\n",
       "  </tbody>\n",
       "</table>\n",
       "</div>"
      ],
      "text/plain": [
       "   Pregnancies  Glucose  BloodPressure  SkinThickness  Insulin   BMI  \\\n",
       "2            8      183             64              0        0  23.3   \n",
       "5            5      116             74              0        0  25.6   \n",
       "7           10      115              0              0        0  35.3   \n",
       "\n",
       "   DiabetesPedigreeFunction  Age  Outcome  \n",
       "2                     0.672   32        1  \n",
       "5                     0.201   30        0  \n",
       "7                     0.134   29        0  "
      ]
     },
     "execution_count": 76,
     "metadata": {},
     "output_type": "execute_result"
    }
   ],
   "source": [
    "print('Median is:',np.median(diabetes_data_copy.SkinThickness))\n",
    "print('Mode is:',stats.mode(diabetes_data_copy.SkinThickness))\n",
    "print('total number  ZERO Values:',np.sum(diabetes_data_copy.SkinThickness==0))\n",
    "diabetes_data_copy.loc[(diabetes_data_copy.SkinThickness==0)].head(3)"
   ]
  },
  {
   "cell_type": "code",
   "execution_count": 77,
   "metadata": {},
   "outputs": [
    {
     "name": "stdout",
     "output_type": "stream",
     "text": [
      "Median is: 30.5\n",
      "Mode is: ModeResult(mode=array([0], dtype=int64), count=array([374]))\n",
      "total number  ZERO Values: 374\n"
     ]
    },
    {
     "data": {
      "text/html": [
       "<div>\n",
       "<style scoped>\n",
       "    .dataframe tbody tr th:only-of-type {\n",
       "        vertical-align: middle;\n",
       "    }\n",
       "\n",
       "    .dataframe tbody tr th {\n",
       "        vertical-align: top;\n",
       "    }\n",
       "\n",
       "    .dataframe thead th {\n",
       "        text-align: right;\n",
       "    }\n",
       "</style>\n",
       "<table border=\"1\" class=\"dataframe\">\n",
       "  <thead>\n",
       "    <tr style=\"text-align: right;\">\n",
       "      <th></th>\n",
       "      <th>Pregnancies</th>\n",
       "      <th>Glucose</th>\n",
       "      <th>BloodPressure</th>\n",
       "      <th>SkinThickness</th>\n",
       "      <th>Insulin</th>\n",
       "      <th>BMI</th>\n",
       "      <th>DiabetesPedigreeFunction</th>\n",
       "      <th>Age</th>\n",
       "      <th>Outcome</th>\n",
       "    </tr>\n",
       "  </thead>\n",
       "  <tbody>\n",
       "    <tr>\n",
       "      <th>0</th>\n",
       "      <td>6</td>\n",
       "      <td>148</td>\n",
       "      <td>72</td>\n",
       "      <td>35</td>\n",
       "      <td>0</td>\n",
       "      <td>33.6</td>\n",
       "      <td>0.627</td>\n",
       "      <td>50</td>\n",
       "      <td>1</td>\n",
       "    </tr>\n",
       "    <tr>\n",
       "      <th>1</th>\n",
       "      <td>1</td>\n",
       "      <td>85</td>\n",
       "      <td>66</td>\n",
       "      <td>29</td>\n",
       "      <td>0</td>\n",
       "      <td>26.6</td>\n",
       "      <td>0.351</td>\n",
       "      <td>31</td>\n",
       "      <td>0</td>\n",
       "    </tr>\n",
       "    <tr>\n",
       "      <th>2</th>\n",
       "      <td>8</td>\n",
       "      <td>183</td>\n",
       "      <td>64</td>\n",
       "      <td>0</td>\n",
       "      <td>0</td>\n",
       "      <td>23.3</td>\n",
       "      <td>0.672</td>\n",
       "      <td>32</td>\n",
       "      <td>1</td>\n",
       "    </tr>\n",
       "  </tbody>\n",
       "</table>\n",
       "</div>"
      ],
      "text/plain": [
       "   Pregnancies  Glucose  BloodPressure  SkinThickness  Insulin   BMI  \\\n",
       "0            6      148             72             35        0  33.6   \n",
       "1            1       85             66             29        0  26.6   \n",
       "2            8      183             64              0        0  23.3   \n",
       "\n",
       "   DiabetesPedigreeFunction  Age  Outcome  \n",
       "0                     0.627   50        1  \n",
       "1                     0.351   31        0  \n",
       "2                     0.672   32        1  "
      ]
     },
     "execution_count": 77,
     "metadata": {},
     "output_type": "execute_result"
    }
   ],
   "source": [
    "print('Median is:',np.median(diabetes_data_copy.Insulin))\n",
    "print('Mode is:',stats.mode(diabetes_data_copy.Insulin))\n",
    "print('total number  ZERO Values:',np.sum(diabetes_data_copy.Insulin ==0))\n",
    "diabetes_data_copy.loc[(diabetes_data_copy.Insulin ==0)].head(3)"
   ]
  },
  {
   "cell_type": "code",
   "execution_count": 78,
   "metadata": {},
   "outputs": [
    {
     "name": "stdout",
     "output_type": "stream",
     "text": [
      "Median is: 32.0\n",
      "Mode is: ModeResult(mode=array([32.]), count=array([13]))\n",
      "total number  ZERO Values: 11\n"
     ]
    },
    {
     "data": {
      "text/html": [
       "<div>\n",
       "<style scoped>\n",
       "    .dataframe tbody tr th:only-of-type {\n",
       "        vertical-align: middle;\n",
       "    }\n",
       "\n",
       "    .dataframe tbody tr th {\n",
       "        vertical-align: top;\n",
       "    }\n",
       "\n",
       "    .dataframe thead th {\n",
       "        text-align: right;\n",
       "    }\n",
       "</style>\n",
       "<table border=\"1\" class=\"dataframe\">\n",
       "  <thead>\n",
       "    <tr style=\"text-align: right;\">\n",
       "      <th></th>\n",
       "      <th>Pregnancies</th>\n",
       "      <th>Glucose</th>\n",
       "      <th>BloodPressure</th>\n",
       "      <th>SkinThickness</th>\n",
       "      <th>Insulin</th>\n",
       "      <th>BMI</th>\n",
       "      <th>DiabetesPedigreeFunction</th>\n",
       "      <th>Age</th>\n",
       "      <th>Outcome</th>\n",
       "    </tr>\n",
       "  </thead>\n",
       "  <tbody>\n",
       "    <tr>\n",
       "      <th>9</th>\n",
       "      <td>8</td>\n",
       "      <td>125</td>\n",
       "      <td>96</td>\n",
       "      <td>0</td>\n",
       "      <td>0</td>\n",
       "      <td>0.0</td>\n",
       "      <td>0.232</td>\n",
       "      <td>54</td>\n",
       "      <td>1</td>\n",
       "    </tr>\n",
       "    <tr>\n",
       "      <th>49</th>\n",
       "      <td>7</td>\n",
       "      <td>105</td>\n",
       "      <td>0</td>\n",
       "      <td>0</td>\n",
       "      <td>0</td>\n",
       "      <td>0.0</td>\n",
       "      <td>0.305</td>\n",
       "      <td>24</td>\n",
       "      <td>0</td>\n",
       "    </tr>\n",
       "    <tr>\n",
       "      <th>60</th>\n",
       "      <td>2</td>\n",
       "      <td>84</td>\n",
       "      <td>0</td>\n",
       "      <td>0</td>\n",
       "      <td>0</td>\n",
       "      <td>0.0</td>\n",
       "      <td>0.304</td>\n",
       "      <td>21</td>\n",
       "      <td>0</td>\n",
       "    </tr>\n",
       "  </tbody>\n",
       "</table>\n",
       "</div>"
      ],
      "text/plain": [
       "    Pregnancies  Glucose  BloodPressure  SkinThickness  Insulin  BMI  \\\n",
       "9             8      125             96              0        0  0.0   \n",
       "49            7      105              0              0        0  0.0   \n",
       "60            2       84              0              0        0  0.0   \n",
       "\n",
       "    DiabetesPedigreeFunction  Age  Outcome  \n",
       "9                      0.232   54        1  \n",
       "49                     0.305   24        0  \n",
       "60                     0.304   21        0  "
      ]
     },
     "execution_count": 78,
     "metadata": {},
     "output_type": "execute_result"
    }
   ],
   "source": [
    "print('Median is:',np.median(diabetes_data_copy.BMI))\n",
    "print('Mode is:',stats.mode(diabetes_data_copy.BMI))\n",
    "print('total number  ZERO Values:',np.sum(diabetes_data_copy.BMI==0))\n",
    "diabetes_data_copy.loc[(diabetes_data_copy.BMI==0)].head(3)"
   ]
  },
  {
   "cell_type": "code",
   "execution_count": 79,
   "metadata": {},
   "outputs": [
    {
     "data": {
      "text/html": [
       "<div>\n",
       "<style scoped>\n",
       "    .dataframe tbody tr th:only-of-type {\n",
       "        vertical-align: middle;\n",
       "    }\n",
       "\n",
       "    .dataframe tbody tr th {\n",
       "        vertical-align: top;\n",
       "    }\n",
       "\n",
       "    .dataframe thead th {\n",
       "        text-align: right;\n",
       "    }\n",
       "</style>\n",
       "<table border=\"1\" class=\"dataframe\">\n",
       "  <thead>\n",
       "    <tr style=\"text-align: right;\">\n",
       "      <th></th>\n",
       "      <th>Pregnancies</th>\n",
       "      <th>Glucose</th>\n",
       "      <th>BloodPressure</th>\n",
       "      <th>SkinThickness</th>\n",
       "      <th>Insulin</th>\n",
       "      <th>BMI</th>\n",
       "      <th>DiabetesPedigreeFunction</th>\n",
       "      <th>Age</th>\n",
       "      <th>Outcome</th>\n",
       "    </tr>\n",
       "  </thead>\n",
       "  <tbody>\n",
       "    <tr>\n",
       "      <th>49</th>\n",
       "      <td>7</td>\n",
       "      <td>105</td>\n",
       "      <td>0</td>\n",
       "      <td>0</td>\n",
       "      <td>0</td>\n",
       "      <td>0.0</td>\n",
       "      <td>0.305</td>\n",
       "      <td>24</td>\n",
       "      <td>0</td>\n",
       "    </tr>\n",
       "    <tr>\n",
       "      <th>60</th>\n",
       "      <td>2</td>\n",
       "      <td>84</td>\n",
       "      <td>0</td>\n",
       "      <td>0</td>\n",
       "      <td>0</td>\n",
       "      <td>0.0</td>\n",
       "      <td>0.304</td>\n",
       "      <td>21</td>\n",
       "      <td>0</td>\n",
       "    </tr>\n",
       "    <tr>\n",
       "      <th>81</th>\n",
       "      <td>2</td>\n",
       "      <td>74</td>\n",
       "      <td>0</td>\n",
       "      <td>0</td>\n",
       "      <td>0</td>\n",
       "      <td>0.0</td>\n",
       "      <td>0.102</td>\n",
       "      <td>22</td>\n",
       "      <td>0</td>\n",
       "    </tr>\n",
       "    <tr>\n",
       "      <th>426</th>\n",
       "      <td>0</td>\n",
       "      <td>94</td>\n",
       "      <td>0</td>\n",
       "      <td>0</td>\n",
       "      <td>0</td>\n",
       "      <td>0.0</td>\n",
       "      <td>0.256</td>\n",
       "      <td>25</td>\n",
       "      <td>0</td>\n",
       "    </tr>\n",
       "    <tr>\n",
       "      <th>494</th>\n",
       "      <td>3</td>\n",
       "      <td>80</td>\n",
       "      <td>0</td>\n",
       "      <td>0</td>\n",
       "      <td>0</td>\n",
       "      <td>0.0</td>\n",
       "      <td>0.174</td>\n",
       "      <td>22</td>\n",
       "      <td>0</td>\n",
       "    </tr>\n",
       "    <tr>\n",
       "      <th>522</th>\n",
       "      <td>6</td>\n",
       "      <td>114</td>\n",
       "      <td>0</td>\n",
       "      <td>0</td>\n",
       "      <td>0</td>\n",
       "      <td>0.0</td>\n",
       "      <td>0.189</td>\n",
       "      <td>26</td>\n",
       "      <td>0</td>\n",
       "    </tr>\n",
       "    <tr>\n",
       "      <th>706</th>\n",
       "      <td>10</td>\n",
       "      <td>115</td>\n",
       "      <td>0</td>\n",
       "      <td>0</td>\n",
       "      <td>0</td>\n",
       "      <td>0.0</td>\n",
       "      <td>0.261</td>\n",
       "      <td>30</td>\n",
       "      <td>1</td>\n",
       "    </tr>\n",
       "  </tbody>\n",
       "</table>\n",
       "</div>"
      ],
      "text/plain": [
       "     Pregnancies  Glucose  BloodPressure  SkinThickness  Insulin  BMI  \\\n",
       "49             7      105              0              0        0  0.0   \n",
       "60             2       84              0              0        0  0.0   \n",
       "81             2       74              0              0        0  0.0   \n",
       "426            0       94              0              0        0  0.0   \n",
       "494            3       80              0              0        0  0.0   \n",
       "522            6      114              0              0        0  0.0   \n",
       "706           10      115              0              0        0  0.0   \n",
       "\n",
       "     DiabetesPedigreeFunction  Age  Outcome  \n",
       "49                      0.305   24        0  \n",
       "60                      0.304   21        0  \n",
       "81                      0.102   22        0  \n",
       "426                     0.256   25        0  \n",
       "494                     0.174   22        0  \n",
       "522                     0.189   26        0  \n",
       "706                     0.261   30        1  "
      ]
     },
     "execution_count": 79,
     "metadata": {},
     "output_type": "execute_result"
    }
   ],
   "source": [
    "#Checking the rows where there is more than one Zero value in the dataset and will be removing it from the data.\n",
    "diabetes_data_copy.loc[(diabetes_data_copy.BloodPressure==0)&(diabetes_data_copy.SkinThickness==0)&\n",
    "                       (diabetes_data_copy.Insulin ==0)&(diabetes_data_copy.BMI==0)]"
   ]
  },
  {
   "cell_type": "code",
   "execution_count": 80,
   "metadata": {},
   "outputs": [
    {
     "data": {
      "text/plain": [
       "(761, 9)"
      ]
     },
     "execution_count": 80,
     "metadata": {},
     "output_type": "execute_result"
    }
   ],
   "source": [
    "j=diabetes_data_copy[((diabetes_data_copy.BloodPressure==0)&(diabetes_data_copy.SkinThickness==0)&\n",
    "                       (diabetes_data_copy.Insulin ==0)&(diabetes_data_copy.BMI==0))]\n",
    "diabetes_data_copy=diabetes_data_copy.drop(j.index, axis=0)\n",
    "diabetes_data_copy.shape"
   ]
  },
  {
   "cell_type": "code",
   "execution_count": 81,
   "metadata": {},
   "outputs": [
    {
     "data": {
      "text/html": [
       "<div>\n",
       "<style scoped>\n",
       "    .dataframe tbody tr th:only-of-type {\n",
       "        vertical-align: middle;\n",
       "    }\n",
       "\n",
       "    .dataframe tbody tr th {\n",
       "        vertical-align: top;\n",
       "    }\n",
       "\n",
       "    .dataframe thead th {\n",
       "        text-align: right;\n",
       "    }\n",
       "</style>\n",
       "<table border=\"1\" class=\"dataframe\">\n",
       "  <thead>\n",
       "    <tr style=\"text-align: right;\">\n",
       "      <th></th>\n",
       "      <th>Pregnancies</th>\n",
       "      <th>Glucose</th>\n",
       "      <th>BloodPressure</th>\n",
       "      <th>SkinThickness</th>\n",
       "      <th>Insulin</th>\n",
       "      <th>BMI</th>\n",
       "      <th>DiabetesPedigreeFunction</th>\n",
       "      <th>Age</th>\n",
       "      <th>Outcome</th>\n",
       "    </tr>\n",
       "  </thead>\n",
       "  <tbody>\n",
       "    <tr>\n",
       "      <th>75</th>\n",
       "      <td>1</td>\n",
       "      <td>0</td>\n",
       "      <td>48</td>\n",
       "      <td>20</td>\n",
       "      <td>0</td>\n",
       "      <td>24.7</td>\n",
       "      <td>0.140</td>\n",
       "      <td>22</td>\n",
       "      <td>0</td>\n",
       "    </tr>\n",
       "    <tr>\n",
       "      <th>342</th>\n",
       "      <td>1</td>\n",
       "      <td>0</td>\n",
       "      <td>68</td>\n",
       "      <td>35</td>\n",
       "      <td>0</td>\n",
       "      <td>32.0</td>\n",
       "      <td>0.389</td>\n",
       "      <td>22</td>\n",
       "      <td>0</td>\n",
       "    </tr>\n",
       "    <tr>\n",
       "      <th>349</th>\n",
       "      <td>5</td>\n",
       "      <td>0</td>\n",
       "      <td>80</td>\n",
       "      <td>32</td>\n",
       "      <td>0</td>\n",
       "      <td>41.0</td>\n",
       "      <td>0.346</td>\n",
       "      <td>37</td>\n",
       "      <td>1</td>\n",
       "    </tr>\n",
       "    <tr>\n",
       "      <th>502</th>\n",
       "      <td>6</td>\n",
       "      <td>0</td>\n",
       "      <td>68</td>\n",
       "      <td>41</td>\n",
       "      <td>0</td>\n",
       "      <td>39.0</td>\n",
       "      <td>0.727</td>\n",
       "      <td>41</td>\n",
       "      <td>1</td>\n",
       "    </tr>\n",
       "  </tbody>\n",
       "</table>\n",
       "</div>"
      ],
      "text/plain": [
       "     Pregnancies  Glucose  BloodPressure  SkinThickness  Insulin   BMI  \\\n",
       "75             1        0             48             20        0  24.7   \n",
       "342            1        0             68             35        0  32.0   \n",
       "349            5        0             80             32        0  41.0   \n",
       "502            6        0             68             41        0  39.0   \n",
       "\n",
       "     DiabetesPedigreeFunction  Age  Outcome  \n",
       "75                      0.140   22        0  \n",
       "342                     0.389   22        0  \n",
       "349                     0.346   37        1  \n",
       "502                     0.727   41        1  "
      ]
     },
     "execution_count": 81,
     "metadata": {},
     "output_type": "execute_result"
    }
   ],
   "source": [
    "#Checking the rows where there is more than one Zero value in the dataset and will be removing it from the data.\n",
    "diabetes_data_copy.loc[(diabetes_data_copy.Insulin ==0)&(diabetes_data_copy.Glucose==0)]\n"
   ]
  },
  {
   "cell_type": "code",
   "execution_count": 82,
   "metadata": {},
   "outputs": [
    {
     "data": {
      "text/plain": [
       "(757, 9)"
      ]
     },
     "execution_count": 82,
     "metadata": {},
     "output_type": "execute_result"
    }
   ],
   "source": [
    "j=diabetes_data_copy[((diabetes_data_copy.Insulin ==0)&(diabetes_data_copy.Glucose==0))]\n",
    "diabetes_data_copy=diabetes_data_copy.drop(j.index, axis=0)\n",
    "diabetes_data_copy.shape"
   ]
  },
  {
   "cell_type": "code",
   "execution_count": 83,
   "metadata": {},
   "outputs": [
    {
     "data": {
      "text/plain": [
       "(757, 9)"
      ]
     },
     "execution_count": 83,
     "metadata": {},
     "output_type": "execute_result"
    }
   ],
   "source": [
    "diabetes_data_copy.shape"
   ]
  },
  {
   "cell_type": "markdown",
   "metadata": {},
   "source": [
    "We will check the  correlation between two columns , excluding NA/null values.\n",
    "\n",
    "\n",
    "Correlation is a bivariate analysis that measures the strength of association between two variables and the direction of the relationship.  In terms of the strength of relationship, the value of the correlation coefficient varies between +1 and -1. + sign indicates the positive relationship and - sign indicates the negatibve relationship\n",
    "\n",
    "\n",
    "\n",
    "different method : {'pearson', 'kendall', 'spearman'} \n",
    "\n",
    "\n",
    "\n",
    "\n",
    "A heat map is a two-dimensional representation of information with the help of colors. Heat maps can help the user visualize simple or complex information.\n",
    "\n"
   ]
  },
  {
   "cell_type": "code",
   "execution_count": 84,
   "metadata": {},
   "outputs": [
    {
     "data": {
      "text/html": [
       "<style  type=\"text/css\" >\n",
       "#T_1d0a5a9e_300a_11eb_9a92_28d244660669row0_col0,#T_1d0a5a9e_300a_11eb_9a92_28d244660669row1_col1,#T_1d0a5a9e_300a_11eb_9a92_28d244660669row2_col2,#T_1d0a5a9e_300a_11eb_9a92_28d244660669row3_col3,#T_1d0a5a9e_300a_11eb_9a92_28d244660669row4_col4,#T_1d0a5a9e_300a_11eb_9a92_28d244660669row5_col5,#T_1d0a5a9e_300a_11eb_9a92_28d244660669row6_col6,#T_1d0a5a9e_300a_11eb_9a92_28d244660669row7_col7,#T_1d0a5a9e_300a_11eb_9a92_28d244660669row8_col8{\n",
       "            background-color:  #b40426;\n",
       "            color:  #f1f1f1;\n",
       "        }#T_1d0a5a9e_300a_11eb_9a92_28d244660669row0_col1,#T_1d0a5a9e_300a_11eb_9a92_28d244660669row4_col7{\n",
       "            background-color:  #4f69d9;\n",
       "            color:  #000000;\n",
       "        }#T_1d0a5a9e_300a_11eb_9a92_28d244660669row0_col2{\n",
       "            background-color:  #6687ed;\n",
       "            color:  #000000;\n",
       "        }#T_1d0a5a9e_300a_11eb_9a92_28d244660669row0_col3,#T_1d0a5a9e_300a_11eb_9a92_28d244660669row8_col2{\n",
       "            background-color:  #455cce;\n",
       "            color:  #f1f1f1;\n",
       "        }#T_1d0a5a9e_300a_11eb_9a92_28d244660669row0_col4,#T_1d0a5a9e_300a_11eb_9a92_28d244660669row0_col6,#T_1d0a5a9e_300a_11eb_9a92_28d244660669row2_col8,#T_1d0a5a9e_300a_11eb_9a92_28d244660669row3_col0,#T_1d0a5a9e_300a_11eb_9a92_28d244660669row3_col1,#T_1d0a5a9e_300a_11eb_9a92_28d244660669row3_col7,#T_1d0a5a9e_300a_11eb_9a92_28d244660669row6_col2,#T_1d0a5a9e_300a_11eb_9a92_28d244660669row7_col3,#T_1d0a5a9e_300a_11eb_9a92_28d244660669row7_col5{\n",
       "            background-color:  #3b4cc0;\n",
       "            color:  #f1f1f1;\n",
       "        }#T_1d0a5a9e_300a_11eb_9a92_28d244660669row0_col5,#T_1d0a5a9e_300a_11eb_9a92_28d244660669row3_col8{\n",
       "            background-color:  #3f53c6;\n",
       "            color:  #f1f1f1;\n",
       "        }#T_1d0a5a9e_300a_11eb_9a92_28d244660669row0_col7{\n",
       "            background-color:  #f1ccb8;\n",
       "            color:  #000000;\n",
       "        }#T_1d0a5a9e_300a_11eb_9a92_28d244660669row0_col8{\n",
       "            background-color:  #7295f4;\n",
       "            color:  #000000;\n",
       "        }#T_1d0a5a9e_300a_11eb_9a92_28d244660669row1_col0,#T_1d0a5a9e_300a_11eb_9a92_28d244660669row8_col6{\n",
       "            background-color:  #7a9df8;\n",
       "            color:  #000000;\n",
       "        }#T_1d0a5a9e_300a_11eb_9a92_28d244660669row1_col2,#T_1d0a5a9e_300a_11eb_9a92_28d244660669row6_col8{\n",
       "            background-color:  #6180e9;\n",
       "            color:  #000000;\n",
       "        }#T_1d0a5a9e_300a_11eb_9a92_28d244660669row1_col3,#T_1d0a5a9e_300a_11eb_9a92_28d244660669row5_col1,#T_1d0a5a9e_300a_11eb_9a92_28d244660669row8_col3{\n",
       "            background-color:  #7093f3;\n",
       "            color:  #000000;\n",
       "        }#T_1d0a5a9e_300a_11eb_9a92_28d244660669row1_col4,#T_1d0a5a9e_300a_11eb_9a92_28d244660669row3_col5{\n",
       "            background-color:  #b7cff9;\n",
       "            color:  #000000;\n",
       "        }#T_1d0a5a9e_300a_11eb_9a92_28d244660669row1_col5,#T_1d0a5a9e_300a_11eb_9a92_28d244660669row2_col0{\n",
       "            background-color:  #81a4fb;\n",
       "            color:  #000000;\n",
       "        }#T_1d0a5a9e_300a_11eb_9a92_28d244660669row1_col6,#T_1d0a5a9e_300a_11eb_9a92_28d244660669row3_col2{\n",
       "            background-color:  #6e90f2;\n",
       "            color:  #000000;\n",
       "        }#T_1d0a5a9e_300a_11eb_9a92_28d244660669row1_col7{\n",
       "            background-color:  #aec9fc;\n",
       "            color:  #000000;\n",
       "        }#T_1d0a5a9e_300a_11eb_9a92_28d244660669row1_col8{\n",
       "            background-color:  #d3dbe7;\n",
       "            color:  #000000;\n",
       "        }#T_1d0a5a9e_300a_11eb_9a92_28d244660669row2_col1{\n",
       "            background-color:  #516ddb;\n",
       "            color:  #000000;\n",
       "        }#T_1d0a5a9e_300a_11eb_9a92_28d244660669row2_col3,#T_1d0a5a9e_300a_11eb_9a92_28d244660669row6_col3{\n",
       "            background-color:  #93b5fe;\n",
       "            color:  #000000;\n",
       "        }#T_1d0a5a9e_300a_11eb_9a92_28d244660669row2_col4,#T_1d0a5a9e_300a_11eb_9a92_28d244660669row6_col7{\n",
       "            background-color:  #6485ec;\n",
       "            color:  #000000;\n",
       "        }#T_1d0a5a9e_300a_11eb_9a92_28d244660669row2_col5{\n",
       "            background-color:  #6f92f3;\n",
       "            color:  #000000;\n",
       "        }#T_1d0a5a9e_300a_11eb_9a92_28d244660669row2_col6{\n",
       "            background-color:  #4961d2;\n",
       "            color:  #f1f1f1;\n",
       "        }#T_1d0a5a9e_300a_11eb_9a92_28d244660669row2_col7{\n",
       "            background-color:  #a3c2fe;\n",
       "            color:  #000000;\n",
       "        }#T_1d0a5a9e_300a_11eb_9a92_28d244660669row3_col4{\n",
       "            background-color:  #d6dce4;\n",
       "            color:  #000000;\n",
       "        }#T_1d0a5a9e_300a_11eb_9a92_28d244660669row3_col6{\n",
       "            background-color:  #7da0f9;\n",
       "            color:  #000000;\n",
       "        }#T_1d0a5a9e_300a_11eb_9a92_28d244660669row4_col0{\n",
       "            background-color:  #3c4ec2;\n",
       "            color:  #f1f1f1;\n",
       "        }#T_1d0a5a9e_300a_11eb_9a92_28d244660669row4_col1{\n",
       "            background-color:  #97b8ff;\n",
       "            color:  #000000;\n",
       "        }#T_1d0a5a9e_300a_11eb_9a92_28d244660669row4_col2{\n",
       "            background-color:  #4a63d3;\n",
       "            color:  #f1f1f1;\n",
       "        }#T_1d0a5a9e_300a_11eb_9a92_28d244660669row4_col3{\n",
       "            background-color:  #dcdddd;\n",
       "            color:  #000000;\n",
       "        }#T_1d0a5a9e_300a_11eb_9a92_28d244660669row4_col5{\n",
       "            background-color:  #7699f6;\n",
       "            color:  #000000;\n",
       "        }#T_1d0a5a9e_300a_11eb_9a92_28d244660669row4_col6{\n",
       "            background-color:  #7ea1fa;\n",
       "            color:  #000000;\n",
       "        }#T_1d0a5a9e_300a_11eb_9a92_28d244660669row4_col8{\n",
       "            background-color:  #5470de;\n",
       "            color:  #000000;\n",
       "        }#T_1d0a5a9e_300a_11eb_9a92_28d244660669row5_col0{\n",
       "            background-color:  #5875e1;\n",
       "            color:  #000000;\n",
       "        }#T_1d0a5a9e_300a_11eb_9a92_28d244660669row5_col2{\n",
       "            background-color:  #6b8df0;\n",
       "            color:  #000000;\n",
       "        }#T_1d0a5a9e_300a_11eb_9a92_28d244660669row5_col3{\n",
       "            background-color:  #cdd9ec;\n",
       "            color:  #000000;\n",
       "        }#T_1d0a5a9e_300a_11eb_9a92_28d244660669row5_col4{\n",
       "            background-color:  #8badfd;\n",
       "            color:  #000000;\n",
       "        }#T_1d0a5a9e_300a_11eb_9a92_28d244660669row5_col6{\n",
       "            background-color:  #6a8bef;\n",
       "            color:  #000000;\n",
       "        }#T_1d0a5a9e_300a_11eb_9a92_28d244660669row5_col7,#T_1d0a5a9e_300a_11eb_9a92_28d244660669row6_col5{\n",
       "            background-color:  #5e7de7;\n",
       "            color:  #000000;\n",
       "        }#T_1d0a5a9e_300a_11eb_9a92_28d244660669row5_col8{\n",
       "            background-color:  #90b2fe;\n",
       "            color:  #000000;\n",
       "        }#T_1d0a5a9e_300a_11eb_9a92_28d244660669row6_col0{\n",
       "            background-color:  #485fd1;\n",
       "            color:  #f1f1f1;\n",
       "        }#T_1d0a5a9e_300a_11eb_9a92_28d244660669row6_col1{\n",
       "            background-color:  #506bda;\n",
       "            color:  #000000;\n",
       "        }#T_1d0a5a9e_300a_11eb_9a92_28d244660669row6_col4{\n",
       "            background-color:  #88abfd;\n",
       "            color:  #000000;\n",
       "        }#T_1d0a5a9e_300a_11eb_9a92_28d244660669row7_col0{\n",
       "            background-color:  #efcfbf;\n",
       "            color:  #000000;\n",
       "        }#T_1d0a5a9e_300a_11eb_9a92_28d244660669row7_col1,#T_1d0a5a9e_300a_11eb_9a92_28d244660669row7_col2{\n",
       "            background-color:  #80a3fa;\n",
       "            color:  #000000;\n",
       "        }#T_1d0a5a9e_300a_11eb_9a92_28d244660669row7_col4{\n",
       "            background-color:  #4257c9;\n",
       "            color:  #f1f1f1;\n",
       "        }#T_1d0a5a9e_300a_11eb_9a92_28d244660669row7_col6{\n",
       "            background-color:  #4c66d6;\n",
       "            color:  #000000;\n",
       "        }#T_1d0a5a9e_300a_11eb_9a92_28d244660669row7_col8,#T_1d0a5a9e_300a_11eb_9a92_28d244660669row8_col4{\n",
       "            background-color:  #779af7;\n",
       "            color:  #000000;\n",
       "        }#T_1d0a5a9e_300a_11eb_9a92_28d244660669row8_col0{\n",
       "            background-color:  #96b7ff;\n",
       "            color:  #000000;\n",
       "        }#T_1d0a5a9e_300a_11eb_9a92_28d244660669row8_col1{\n",
       "            background-color:  #d1dae9;\n",
       "            color:  #000000;\n",
       "        }#T_1d0a5a9e_300a_11eb_9a92_28d244660669row8_col5{\n",
       "            background-color:  #9dbdff;\n",
       "            color:  #000000;\n",
       "        }#T_1d0a5a9e_300a_11eb_9a92_28d244660669row8_col7{\n",
       "            background-color:  #a5c3fe;\n",
       "            color:  #000000;\n",
       "        }</style><table id=\"T_1d0a5a9e_300a_11eb_9a92_28d244660669\" ><thead>    <tr>        <th class=\"blank level0\" ></th>        <th class=\"col_heading level0 col0\" >Pregnancies</th>        <th class=\"col_heading level0 col1\" >Glucose</th>        <th class=\"col_heading level0 col2\" >BloodPressure</th>        <th class=\"col_heading level0 col3\" >SkinThickness</th>        <th class=\"col_heading level0 col4\" >Insulin</th>        <th class=\"col_heading level0 col5\" >BMI</th>        <th class=\"col_heading level0 col6\" >DiabetesPedigreeFunction</th>        <th class=\"col_heading level0 col7\" >Age</th>        <th class=\"col_heading level0 col8\" >Outcome</th>    </tr></thead><tbody>\n",
       "                <tr>\n",
       "                        <th id=\"T_1d0a5a9e_300a_11eb_9a92_28d244660669level0_row0\" class=\"row_heading level0 row0\" >Pregnancies</th>\n",
       "                        <td id=\"T_1d0a5a9e_300a_11eb_9a92_28d244660669row0_col0\" class=\"data row0 col0\" >1.00</td>\n",
       "                        <td id=\"T_1d0a5a9e_300a_11eb_9a92_28d244660669row0_col1\" class=\"data row0 col1\" >0.13</td>\n",
       "                        <td id=\"T_1d0a5a9e_300a_11eb_9a92_28d244660669row0_col2\" class=\"data row0 col2\" >0.15</td>\n",
       "                        <td id=\"T_1d0a5a9e_300a_11eb_9a92_28d244660669row0_col3\" class=\"data row0 col3\" >-0.08</td>\n",
       "                        <td id=\"T_1d0a5a9e_300a_11eb_9a92_28d244660669row0_col4\" class=\"data row0 col4\" >-0.07</td>\n",
       "                        <td id=\"T_1d0a5a9e_300a_11eb_9a92_28d244660669row0_col5\" class=\"data row0 col5\" >0.02</td>\n",
       "                        <td id=\"T_1d0a5a9e_300a_11eb_9a92_28d244660669row0_col6\" class=\"data row0 col6\" >-0.04</td>\n",
       "                        <td id=\"T_1d0a5a9e_300a_11eb_9a92_28d244660669row0_col7\" class=\"data row0 col7\" >0.55</td>\n",
       "                        <td id=\"T_1d0a5a9e_300a_11eb_9a92_28d244660669row0_col8\" class=\"data row0 col8\" >0.22</td>\n",
       "            </tr>\n",
       "            <tr>\n",
       "                        <th id=\"T_1d0a5a9e_300a_11eb_9a92_28d244660669level0_row1\" class=\"row_heading level0 row1\" >Glucose</th>\n",
       "                        <td id=\"T_1d0a5a9e_300a_11eb_9a92_28d244660669row1_col0\" class=\"data row1 col0\" >0.13</td>\n",
       "                        <td id=\"T_1d0a5a9e_300a_11eb_9a92_28d244660669row1_col1\" class=\"data row1 col1\" >1.00</td>\n",
       "                        <td id=\"T_1d0a5a9e_300a_11eb_9a92_28d244660669row1_col2\" class=\"data row1 col2\" >0.14</td>\n",
       "                        <td id=\"T_1d0a5a9e_300a_11eb_9a92_28d244660669row1_col3\" class=\"data row1 col3\" >0.07</td>\n",
       "                        <td id=\"T_1d0a5a9e_300a_11eb_9a92_28d244660669row1_col4\" class=\"data row1 col4\" >0.33</td>\n",
       "                        <td id=\"T_1d0a5a9e_300a_11eb_9a92_28d244660669row1_col5\" class=\"data row1 col5\" >0.22</td>\n",
       "                        <td id=\"T_1d0a5a9e_300a_11eb_9a92_28d244660669row1_col6\" class=\"data row1 col6\" >0.13</td>\n",
       "                        <td id=\"T_1d0a5a9e_300a_11eb_9a92_28d244660669row1_col7\" class=\"data row1 col7\" >0.26</td>\n",
       "                        <td id=\"T_1d0a5a9e_300a_11eb_9a92_28d244660669row1_col8\" class=\"data row1 col8\" >0.49</td>\n",
       "            </tr>\n",
       "            <tr>\n",
       "                        <th id=\"T_1d0a5a9e_300a_11eb_9a92_28d244660669level0_row2\" class=\"row_heading level0 row2\" >BloodPressure</th>\n",
       "                        <td id=\"T_1d0a5a9e_300a_11eb_9a92_28d244660669row2_col0\" class=\"data row2 col0\" >0.15</td>\n",
       "                        <td id=\"T_1d0a5a9e_300a_11eb_9a92_28d244660669row2_col1\" class=\"data row2 col1\" >0.14</td>\n",
       "                        <td id=\"T_1d0a5a9e_300a_11eb_9a92_28d244660669row2_col2\" class=\"data row2 col2\" >1.00</td>\n",
       "                        <td id=\"T_1d0a5a9e_300a_11eb_9a92_28d244660669row2_col3\" class=\"data row2 col3\" >0.18</td>\n",
       "                        <td id=\"T_1d0a5a9e_300a_11eb_9a92_28d244660669row2_col4\" class=\"data row2 col4\" >0.07</td>\n",
       "                        <td id=\"T_1d0a5a9e_300a_11eb_9a92_28d244660669row2_col5\" class=\"data row2 col5\" >0.17</td>\n",
       "                        <td id=\"T_1d0a5a9e_300a_11eb_9a92_28d244660669row2_col6\" class=\"data row2 col6\" >0.02</td>\n",
       "                        <td id=\"T_1d0a5a9e_300a_11eb_9a92_28d244660669row2_col7\" class=\"data row2 col7\" >0.23</td>\n",
       "                        <td id=\"T_1d0a5a9e_300a_11eb_9a92_28d244660669row2_col8\" class=\"data row2 col8\" >0.05</td>\n",
       "            </tr>\n",
       "            <tr>\n",
       "                        <th id=\"T_1d0a5a9e_300a_11eb_9a92_28d244660669level0_row3\" class=\"row_heading level0 row3\" >SkinThickness</th>\n",
       "                        <td id=\"T_1d0a5a9e_300a_11eb_9a92_28d244660669row3_col0\" class=\"data row3 col0\" >-0.08</td>\n",
       "                        <td id=\"T_1d0a5a9e_300a_11eb_9a92_28d244660669row3_col1\" class=\"data row3 col1\" >0.07</td>\n",
       "                        <td id=\"T_1d0a5a9e_300a_11eb_9a92_28d244660669row3_col2\" class=\"data row3 col2\" >0.18</td>\n",
       "                        <td id=\"T_1d0a5a9e_300a_11eb_9a92_28d244660669row3_col3\" class=\"data row3 col3\" >1.00</td>\n",
       "                        <td id=\"T_1d0a5a9e_300a_11eb_9a92_28d244660669row3_col4\" class=\"data row3 col4\" >0.44</td>\n",
       "                        <td id=\"T_1d0a5a9e_300a_11eb_9a92_28d244660669row3_col5\" class=\"data row3 col5\" >0.38</td>\n",
       "                        <td id=\"T_1d0a5a9e_300a_11eb_9a92_28d244660669row3_col6\" class=\"data row3 col6\" >0.18</td>\n",
       "                        <td id=\"T_1d0a5a9e_300a_11eb_9a92_28d244660669row3_col7\" class=\"data row3 col7\" >-0.13</td>\n",
       "                        <td id=\"T_1d0a5a9e_300a_11eb_9a92_28d244660669row3_col8\" class=\"data row3 col8\" >0.07</td>\n",
       "            </tr>\n",
       "            <tr>\n",
       "                        <th id=\"T_1d0a5a9e_300a_11eb_9a92_28d244660669level0_row4\" class=\"row_heading level0 row4\" >Insulin</th>\n",
       "                        <td id=\"T_1d0a5a9e_300a_11eb_9a92_28d244660669row4_col0\" class=\"data row4 col0\" >-0.07</td>\n",
       "                        <td id=\"T_1d0a5a9e_300a_11eb_9a92_28d244660669row4_col1\" class=\"data row4 col1\" >0.33</td>\n",
       "                        <td id=\"T_1d0a5a9e_300a_11eb_9a92_28d244660669row4_col2\" class=\"data row4 col2\" >0.07</td>\n",
       "                        <td id=\"T_1d0a5a9e_300a_11eb_9a92_28d244660669row4_col3\" class=\"data row4 col3\" >0.44</td>\n",
       "                        <td id=\"T_1d0a5a9e_300a_11eb_9a92_28d244660669row4_col4\" class=\"data row4 col4\" >1.00</td>\n",
       "                        <td id=\"T_1d0a5a9e_300a_11eb_9a92_28d244660669row4_col5\" class=\"data row4 col5\" >0.19</td>\n",
       "                        <td id=\"T_1d0a5a9e_300a_11eb_9a92_28d244660669row4_col6\" class=\"data row4 col6\" >0.18</td>\n",
       "                        <td id=\"T_1d0a5a9e_300a_11eb_9a92_28d244660669row4_col7\" class=\"data row4 col7\" >-0.05</td>\n",
       "                        <td id=\"T_1d0a5a9e_300a_11eb_9a92_28d244660669row4_col8\" class=\"data row4 col8\" >0.13</td>\n",
       "            </tr>\n",
       "            <tr>\n",
       "                        <th id=\"T_1d0a5a9e_300a_11eb_9a92_28d244660669level0_row5\" class=\"row_heading level0 row5\" >BMI</th>\n",
       "                        <td id=\"T_1d0a5a9e_300a_11eb_9a92_28d244660669row5_col0\" class=\"data row5 col0\" >0.02</td>\n",
       "                        <td id=\"T_1d0a5a9e_300a_11eb_9a92_28d244660669row5_col1\" class=\"data row5 col1\" >0.22</td>\n",
       "                        <td id=\"T_1d0a5a9e_300a_11eb_9a92_28d244660669row5_col2\" class=\"data row5 col2\" >0.17</td>\n",
       "                        <td id=\"T_1d0a5a9e_300a_11eb_9a92_28d244660669row5_col3\" class=\"data row5 col3\" >0.38</td>\n",
       "                        <td id=\"T_1d0a5a9e_300a_11eb_9a92_28d244660669row5_col4\" class=\"data row5 col4\" >0.19</td>\n",
       "                        <td id=\"T_1d0a5a9e_300a_11eb_9a92_28d244660669row5_col5\" class=\"data row5 col5\" >1.00</td>\n",
       "                        <td id=\"T_1d0a5a9e_300a_11eb_9a92_28d244660669row5_col6\" class=\"data row5 col6\" >0.12</td>\n",
       "                        <td id=\"T_1d0a5a9e_300a_11eb_9a92_28d244660669row5_col7\" class=\"data row5 col7\" >0.01</td>\n",
       "                        <td id=\"T_1d0a5a9e_300a_11eb_9a92_28d244660669row5_col8\" class=\"data row5 col8\" >0.30</td>\n",
       "            </tr>\n",
       "            <tr>\n",
       "                        <th id=\"T_1d0a5a9e_300a_11eb_9a92_28d244660669level0_row6\" class=\"row_heading level0 row6\" >DiabetesPedigreeFunction</th>\n",
       "                        <td id=\"T_1d0a5a9e_300a_11eb_9a92_28d244660669row6_col0\" class=\"data row6 col0\" >-0.04</td>\n",
       "                        <td id=\"T_1d0a5a9e_300a_11eb_9a92_28d244660669row6_col1\" class=\"data row6 col1\" >0.13</td>\n",
       "                        <td id=\"T_1d0a5a9e_300a_11eb_9a92_28d244660669row6_col2\" class=\"data row6 col2\" >0.02</td>\n",
       "                        <td id=\"T_1d0a5a9e_300a_11eb_9a92_28d244660669row6_col3\" class=\"data row6 col3\" >0.18</td>\n",
       "                        <td id=\"T_1d0a5a9e_300a_11eb_9a92_28d244660669row6_col4\" class=\"data row6 col4\" >0.18</td>\n",
       "                        <td id=\"T_1d0a5a9e_300a_11eb_9a92_28d244660669row6_col5\" class=\"data row6 col5\" >0.12</td>\n",
       "                        <td id=\"T_1d0a5a9e_300a_11eb_9a92_28d244660669row6_col6\" class=\"data row6 col6\" >1.00</td>\n",
       "                        <td id=\"T_1d0a5a9e_300a_11eb_9a92_28d244660669row6_col7\" class=\"data row6 col7\" >0.03</td>\n",
       "                        <td id=\"T_1d0a5a9e_300a_11eb_9a92_28d244660669row6_col8\" class=\"data row6 col8\" >0.17</td>\n",
       "            </tr>\n",
       "            <tr>\n",
       "                        <th id=\"T_1d0a5a9e_300a_11eb_9a92_28d244660669level0_row7\" class=\"row_heading level0 row7\" >Age</th>\n",
       "                        <td id=\"T_1d0a5a9e_300a_11eb_9a92_28d244660669row7_col0\" class=\"data row7 col0\" >0.55</td>\n",
       "                        <td id=\"T_1d0a5a9e_300a_11eb_9a92_28d244660669row7_col1\" class=\"data row7 col1\" >0.26</td>\n",
       "                        <td id=\"T_1d0a5a9e_300a_11eb_9a92_28d244660669row7_col2\" class=\"data row7 col2\" >0.23</td>\n",
       "                        <td id=\"T_1d0a5a9e_300a_11eb_9a92_28d244660669row7_col3\" class=\"data row7 col3\" >-0.13</td>\n",
       "                        <td id=\"T_1d0a5a9e_300a_11eb_9a92_28d244660669row7_col4\" class=\"data row7 col4\" >-0.05</td>\n",
       "                        <td id=\"T_1d0a5a9e_300a_11eb_9a92_28d244660669row7_col5\" class=\"data row7 col5\" >0.01</td>\n",
       "                        <td id=\"T_1d0a5a9e_300a_11eb_9a92_28d244660669row7_col6\" class=\"data row7 col6\" >0.03</td>\n",
       "                        <td id=\"T_1d0a5a9e_300a_11eb_9a92_28d244660669row7_col7\" class=\"data row7 col7\" >1.00</td>\n",
       "                        <td id=\"T_1d0a5a9e_300a_11eb_9a92_28d244660669row7_col8\" class=\"data row7 col8\" >0.23</td>\n",
       "            </tr>\n",
       "            <tr>\n",
       "                        <th id=\"T_1d0a5a9e_300a_11eb_9a92_28d244660669level0_row8\" class=\"row_heading level0 row8\" >Outcome</th>\n",
       "                        <td id=\"T_1d0a5a9e_300a_11eb_9a92_28d244660669row8_col0\" class=\"data row8 col0\" >0.22</td>\n",
       "                        <td id=\"T_1d0a5a9e_300a_11eb_9a92_28d244660669row8_col1\" class=\"data row8 col1\" >0.49</td>\n",
       "                        <td id=\"T_1d0a5a9e_300a_11eb_9a92_28d244660669row8_col2\" class=\"data row8 col2\" >0.05</td>\n",
       "                        <td id=\"T_1d0a5a9e_300a_11eb_9a92_28d244660669row8_col3\" class=\"data row8 col3\" >0.07</td>\n",
       "                        <td id=\"T_1d0a5a9e_300a_11eb_9a92_28d244660669row8_col4\" class=\"data row8 col4\" >0.13</td>\n",
       "                        <td id=\"T_1d0a5a9e_300a_11eb_9a92_28d244660669row8_col5\" class=\"data row8 col5\" >0.30</td>\n",
       "                        <td id=\"T_1d0a5a9e_300a_11eb_9a92_28d244660669row8_col6\" class=\"data row8 col6\" >0.17</td>\n",
       "                        <td id=\"T_1d0a5a9e_300a_11eb_9a92_28d244660669row8_col7\" class=\"data row8 col7\" >0.23</td>\n",
       "                        <td id=\"T_1d0a5a9e_300a_11eb_9a92_28d244660669row8_col8\" class=\"data row8 col8\" >1.00</td>\n",
       "            </tr>\n",
       "    </tbody></table>"
      ],
      "text/plain": [
       "<pandas.io.formats.style.Styler at 0x680ffb65f8>"
      ]
     },
     "execution_count": 84,
     "metadata": {},
     "output_type": "execute_result"
    }
   ],
   "source": [
    "diabetes_data_copy_corr=diabetes_data_copy.corr()\n",
    "diabetes_data_copy_corr.style.background_gradient(cmap='coolwarm').set_precision(2)"
   ]
  },
  {
   "cell_type": "markdown",
   "metadata": {},
   "source": [
    "From here we can conclude that Age and Pregnancies are correlated with each other.\n",
    "Other Pairs are which shows some correlation are: (Insulin and skin thickness) and (BMI and Insulin)"
   ]
  },
  {
   "cell_type": "code",
   "execution_count": 85,
   "metadata": {},
   "outputs": [
    {
     "data": {
      "text/plain": [
       "array([[<matplotlib.axes._subplots.AxesSubplot object at 0x000000680FFBE5F8>,\n",
       "        <matplotlib.axes._subplots.AxesSubplot object at 0x000000680FFE7C18>,\n",
       "        <matplotlib.axes._subplots.AxesSubplot object at 0x000000681000EE80>],\n",
       "       [<matplotlib.axes._subplots.AxesSubplot object at 0x0000006810033BE0>,\n",
       "        <matplotlib.axes._subplots.AxesSubplot object at 0x000000681005AF98>,\n",
       "        <matplotlib.axes._subplots.AxesSubplot object at 0x00000068100CA550>],\n",
       "       [<matplotlib.axes._subplots.AxesSubplot object at 0x00000068100F2AC8>,\n",
       "        <matplotlib.axes._subplots.AxesSubplot object at 0x00000068101230B8>,\n",
       "        <matplotlib.axes._subplots.AxesSubplot object at 0x00000068101230F0>]],\n",
       "      dtype=object)"
      ]
     },
     "execution_count": 85,
     "metadata": {},
     "output_type": "execute_result"
    },
    {
     "data": {
      "image/png": "[encoded data removed]",
      "text/plain": [
       "<Figure size 720x720 with 9 Axes>"
      ]
     },
     "metadata": {
      "needs_background": "light"
     },
     "output_type": "display_data"
    }
   ],
   "source": [
    "diabetes_data_copy.hist(figsize = (10,10))"
   ]
  },
  {
   "cell_type": "markdown",
   "metadata": {},
   "source": [
    "1)we can identify what type of distribution the respective variables are following by mean,median,mode\n",
    "\n",
    "-if all are same mean = median = mode then it is normal distribution\n",
    "\n",
    "-if mean>median>mode then it is Right Skewed distribution\n",
    "\n",
    "-if mode>median>mean then it is Left skewed distribution\n",
    "\n",
    "Skewness\n",
    "-A left-skewed distribution has a long left tail. Left-skewed distributions are also called negatively-skewed distributions. That’s because there is a long tail in the negative direction on the number line. The mean is also to the left of the peak.\n",
    "\n",
    "-A right-skewed distribution has a long right tail. Right-skewed distributions are also called positive-skew distributions. That’s because there is a long tail in the positive direction on the number line. The mean is also to the right of the peak.\n",
    "\n",
    "\n",
    "\n",
    "2)\n",
    "-So Pregnancies,Skin Thickness,Insulin,DPF follows Right skewed distributions.\n",
    "\n",
    "-Glucose,BMI,Blood Pressure follows a normal distribution."
   ]
  },
  {
   "cell_type": "code",
   "execution_count": 86,
   "metadata": {},
   "outputs": [],
   "source": [
    "\n",
    "diabetes_data_copy[['Glucose','BloodPressure','SkinThickness','Insulin','BMI']] = diabetes_data_copy[['Glucose','BloodPressure','SkinThickness','Insulin','BMI']].replace(0,np.NaN)\n",
    "   "
   ]
  },
  {
   "cell_type": "markdown",
   "metadata": {},
   "source": [
    "We will first replace the 0 with Na and then will impute with mean which follows normal distribution(BMI,Glucose,Blood pressure).\n",
    "\n",
    "Will impute with median which follows right skewed distribution(Pregnancies,Skin Thickness,Insulin,DPF)"
   ]
  },
  {
   "cell_type": "code",
   "execution_count": 87,
   "metadata": {},
   "outputs": [
    {
     "data": {
      "text/plain": [
       "Pregnancies                   0\n",
       "Glucose                       1\n",
       "BloodPressure                28\n",
       "SkinThickness               220\n",
       "Insulin                     363\n",
       "BMI                           4\n",
       "DiabetesPedigreeFunction      0\n",
       "Age                           0\n",
       "Outcome                       0\n",
       "dtype: int64"
      ]
     },
     "execution_count": 87,
     "metadata": {},
     "output_type": "execute_result"
    }
   ],
   "source": [
    "#checking the total number of null values\n",
    "diabetes_data_copy.isnull().sum()"
   ]
  },
  {
   "cell_type": "code",
   "execution_count": 88,
   "metadata": {},
   "outputs": [],
   "source": [
    "diabetes_data_copy.Glucose[diabetes_data_copy['Glucose'].isnull()]=diabetes_data_copy.Glucose.mean()"
   ]
  },
  {
   "cell_type": "code",
   "execution_count": 89,
   "metadata": {},
   "outputs": [],
   "source": [
    "diabetes_data_copy.BloodPressure[diabetes_data_copy['BloodPressure'].isnull()]=diabetes_data_copy.BloodPressure.mean()"
   ]
  },
  {
   "cell_type": "code",
   "execution_count": 90,
   "metadata": {},
   "outputs": [],
   "source": [
    "diabetes_data_copy.BMI[diabetes_data_copy['BMI'].isnull()]=diabetes_data_copy.BMI.mean()"
   ]
  },
  {
   "cell_type": "code",
   "execution_count": 91,
   "metadata": {},
   "outputs": [],
   "source": [
    "diabetes_data_copy.SkinThickness[diabetes_data_copy['SkinThickness'].isnull()]=diabetes_data_copy.SkinThickness.median()"
   ]
  },
  {
   "cell_type": "code",
   "execution_count": 92,
   "metadata": {},
   "outputs": [],
   "source": [
    "diabetes_data_copy.Insulin[diabetes_data_copy['Insulin'].isnull()]=diabetes_data_copy.Insulin.median()"
   ]
  },
  {
   "cell_type": "markdown",
   "metadata": {},
   "source": [
    "Checking the Graphs again after imputation, did they change their behaviour."
   ]
  },
  {
   "cell_type": "code",
   "execution_count": 93,
   "metadata": {},
   "outputs": [
    {
     "data": {
      "text/plain": [
       "array([[<matplotlib.axes._subplots.AxesSubplot object at 0x000000680FF298D0>,\n",
       "        <matplotlib.axes._subplots.AxesSubplot object at 0x000000680E5A35C0>,\n",
       "        <matplotlib.axes._subplots.AxesSubplot object at 0x000000680E378780>],\n",
       "       [<matplotlib.axes._subplots.AxesSubplot object at 0x000000680E43FAC8>,\n",
       "        <matplotlib.axes._subplots.AxesSubplot object at 0x000000680E5F9860>,\n",
       "        <matplotlib.axes._subplots.AxesSubplot object at 0x000000680E3E57B8>],\n",
       "       [<matplotlib.axes._subplots.AxesSubplot object at 0x000000680E36F390>,\n",
       "        <matplotlib.axes._subplots.AxesSubplot object at 0x000000680E41EBA8>,\n",
       "        <matplotlib.axes._subplots.AxesSubplot object at 0x000000680E41EB70>]],\n",
       "      dtype=object)"
      ]
     },
     "execution_count": 93,
     "metadata": {},
     "output_type": "execute_result"
    },
    {
     "data": {
      "image/png": "[encoded data removed]",
      "text/plain": [
       "<Figure size 720x720 with 9 Axes>"
      ]
     },
     "metadata": {
      "needs_background": "light"
     },
     "output_type": "display_data"
    }
   ],
   "source": [
    "diabetes_data_copy.hist(figsize = (10,10))"
   ]
  },
  {
   "cell_type": "markdown",
   "metadata": {},
   "source": [
    "Now we will check the behaviour of different features with the target."
   ]
  },
  {
   "cell_type": "code",
   "execution_count": 94,
   "metadata": {},
   "outputs": [
    {
     "data": {
      "image/png": "[encoded data removed]",
      "text/plain": [
       "<Figure size 360x360 with 1 Axes>"
      ]
     },
     "metadata": {
      "needs_background": "light"
     },
     "output_type": "display_data"
    },
    {
     "data": {
      "image/png": "[encoded data removed]",
      "text/plain": [
       "<Figure size 360x360 with 1 Axes>"
      ]
     },
     "metadata": {
      "needs_background": "light"
     },
     "output_type": "display_data"
    },
    {
     "data": {
      "image/png": "[encoded data removed]",
      "text/plain": [
       "<Figure size 360x360 with 1 Axes>"
      ]
     },
     "metadata": {
      "needs_background": "light"
     },
     "output_type": "display_data"
    },
    {
     "data": {
      "image/png": "[encoded data removed]",
      "text/plain": [
       "<Figure size 360x360 with 1 Axes>"
      ]
     },
     "metadata": {
      "needs_background": "light"
     },
     "output_type": "display_data"
    },
    {
     "data": {
      "image/png": "[encoded data removed]",
      "text/plain": [
       "<Figure size 360x360 with 1 Axes>"
      ]
     },
     "metadata": {
      "needs_background": "light"
     },
     "output_type": "display_data"
    },
    {
     "data": {
      "image/png": "[encoded data removed]",
      "text/plain": [
       "<Figure size 360x360 with 1 Axes>"
      ]
     },
     "metadata": {
      "needs_background": "light"
     },
     "output_type": "display_data"
    },
    {
     "data": {
      "image/png": "[encoded data removed]",
      "text/plain": [
       "<Figure size 360x360 with 1 Axes>"
      ]
     },
     "metadata": {
      "needs_background": "light"
     },
     "output_type": "display_data"
    },
    {
     "data": {
      "image/png": "[encoded data removed]",
      "text/plain": [
       "<Figure size 360x360 with 1 Axes>"
      ]
     },
     "metadata": {
      "needs_background": "light"
     },
     "output_type": "display_data"
    },
    {
     "data": {
      "image/png": "[encoded data removed]",
      "text/plain": [
       "<Figure size 360x360 with 1 Axes>"
      ]
     },
     "metadata": {
      "needs_background": "light"
     },
     "output_type": "display_data"
    }
   ],
   "source": [
    "for i in diabetes_data_copy:\n",
    "    fig, ax2 = plt.subplots(figsize=(5, 5))\n",
    "    sns.boxplot(x=\"Outcome\", y=i, data=diabetes_data_copy)\n",
    "    "
   ]
  },
  {
   "cell_type": "markdown",
   "metadata": {},
   "source": [
    "Those who are diabitic have higher glucose level,Skin Thickness,Insulin And BMI.\n",
    "\n",
    "With the Age, the chance of havinng Diabetes Increases. The more you get older , the more the chance of having the diabetes. "
   ]
  },
  {
   "cell_type": "code",
   "execution_count": 95,
   "metadata": {},
   "outputs": [
    {
     "data": {
      "image/png": "[encoded data removed]",
      "text/plain": [
       "<Figure size 360x360 with 1 Axes>"
      ]
     },
     "metadata": {
      "needs_background": "light"
     },
     "output_type": "display_data"
    },
    {
     "data": {
      "image/png": "[encoded data removed]",
      "text/plain": [
       "<Figure size 360x360 with 1 Axes>"
      ]
     },
     "metadata": {
      "needs_background": "light"
     },
     "output_type": "display_data"
    },
    {
     "data": {
      "image/png": "[encoded data removed]",
      "text/plain": [
       "<Figure size 360x360 with 1 Axes>"
      ]
     },
     "metadata": {
      "needs_background": "light"
     },
     "output_type": "display_data"
    },
    {
     "data": {
      "image/png": "[encoded data removed]",
      "text/plain": [
       "<Figure size 360x360 with 1 Axes>"
      ]
     },
     "metadata": {
      "needs_background": "light"
     },
     "output_type": "display_data"
    },
    {
     "data": {
      "image/png": "[encoded data removed]",
      "text/plain": [
       "<Figure size 360x360 with 1 Axes>"
      ]
     },
     "metadata": {
      "needs_background": "light"
     },
     "output_type": "display_data"
    },
    {
     "data": {
      "image/png": "[encoded data removed]",
      "text/plain": [
       "<Figure size 360x360 with 1 Axes>"
      ]
     },
     "metadata": {
      "needs_background": "light"
     },
     "output_type": "display_data"
    },
    {
     "data": {
      "image/png": "[encoded data removed]",
      "text/plain": [
       "<Figure size 360x360 with 1 Axes>"
      ]
     },
     "metadata": {
      "needs_background": "light"
     },
     "output_type": "display_data"
    },
    {
     "data": {
      "image/png": "[encoded data removed]",
      "text/plain": [
       "<Figure size 360x360 with 1 Axes>"
      ]
     },
     "metadata": {
      "needs_background": "light"
     },
     "output_type": "display_data"
    },
    {
     "data": {
      "image/png": "[encoded data removed]",
      "text/plain": [
       "<Figure size 360x360 with 1 Axes>"
      ]
     },
     "metadata": {
      "needs_background": "light"
     },
     "output_type": "display_data"
    }
   ],
   "source": [
    "for i in diabetes_data_copy:\n",
    "    fig, ax2 = plt.subplots(figsize=(5, 5))\n",
    "    sns.barplot(diabetes_data_copy['Outcome'], diabetes_data_copy[i])"
   ]
  },
  {
   "cell_type": "code",
   "execution_count": 35,
   "metadata": {},
   "outputs": [
    {
     "data": {
      "text/html": [
       "<style  type=\"text/css\" >\n",
       "#T_a0606d58_2ffa_11eb_adc5_28d244660669row0_col0,#T_a0606d58_2ffa_11eb_adc5_28d244660669row1_col1,#T_a0606d58_2ffa_11eb_adc5_28d244660669row2_col2,#T_a0606d58_2ffa_11eb_adc5_28d244660669row3_col3,#T_a0606d58_2ffa_11eb_adc5_28d244660669row4_col4,#T_a0606d58_2ffa_11eb_adc5_28d244660669row5_col5,#T_a0606d58_2ffa_11eb_adc5_28d244660669row6_col6,#T_a0606d58_2ffa_11eb_adc5_28d244660669row7_col7,#T_a0606d58_2ffa_11eb_adc5_28d244660669row8_col8{\n",
       "            background-color:  #b40426;\n",
       "            color:  #f1f1f1;\n",
       "        }#T_a0606d58_2ffa_11eb_adc5_28d244660669row0_col1,#T_a0606d58_2ffa_11eb_adc5_28d244660669row0_col3,#T_a0606d58_2ffa_11eb_adc5_28d244660669row0_col4,#T_a0606d58_2ffa_11eb_adc5_28d244660669row0_col5,#T_a0606d58_2ffa_11eb_adc5_28d244660669row0_col6,#T_a0606d58_2ffa_11eb_adc5_28d244660669row2_col8,#T_a0606d58_2ffa_11eb_adc5_28d244660669row5_col7,#T_a0606d58_2ffa_11eb_adc5_28d244660669row6_col0,#T_a0606d58_2ffa_11eb_adc5_28d244660669row6_col2,#T_a0606d58_2ffa_11eb_adc5_28d244660669row6_col7,#T_a0606d58_2ffa_11eb_adc5_28d244660669row7_col5{\n",
       "            background-color:  #3b4cc0;\n",
       "            color:  #f1f1f1;\n",
       "        }#T_a0606d58_2ffa_11eb_adc5_28d244660669row0_col2{\n",
       "            background-color:  #80a3fa;\n",
       "            color:  #000000;\n",
       "        }#T_a0606d58_2ffa_11eb_adc5_28d244660669row0_col7{\n",
       "            background-color:  #e6d7cf;\n",
       "            color:  #000000;\n",
       "        }#T_a0606d58_2ffa_11eb_adc5_28d244660669row0_col8,#T_a0606d58_2ffa_11eb_adc5_28d244660669row7_col6{\n",
       "            background-color:  #4c66d6;\n",
       "            color:  #000000;\n",
       "        }#T_a0606d58_2ffa_11eb_adc5_28d244660669row1_col0,#T_a0606d58_2ffa_11eb_adc5_28d244660669row5_col4{\n",
       "            background-color:  #6c8ff1;\n",
       "            color:  #000000;\n",
       "        }#T_a0606d58_2ffa_11eb_adc5_28d244660669row1_col2{\n",
       "            background-color:  #84a7fc;\n",
       "            color:  #000000;\n",
       "        }#T_a0606d58_2ffa_11eb_adc5_28d244660669row1_col3,#T_a0606d58_2ffa_11eb_adc5_28d244660669row5_col1{\n",
       "            background-color:  #6180e9;\n",
       "            color:  #000000;\n",
       "        }#T_a0606d58_2ffa_11eb_adc5_28d244660669row1_col4{\n",
       "            background-color:  #c1d4f4;\n",
       "            color:  #000000;\n",
       "        }#T_a0606d58_2ffa_11eb_adc5_28d244660669row1_col5,#T_a0606d58_2ffa_11eb_adc5_28d244660669row8_col7{\n",
       "            background-color:  #81a4fb;\n",
       "            color:  #000000;\n",
       "        }#T_a0606d58_2ffa_11eb_adc5_28d244660669row1_col6{\n",
       "            background-color:  #6e90f2;\n",
       "            color:  #000000;\n",
       "        }#T_a0606d58_2ffa_11eb_adc5_28d244660669row1_col7,#T_a0606d58_2ffa_11eb_adc5_28d244660669row8_col0{\n",
       "            background-color:  #8badfd;\n",
       "            color:  #000000;\n",
       "        }#T_a0606d58_2ffa_11eb_adc5_28d244660669row1_col8{\n",
       "            background-color:  #bed2f6;\n",
       "            color:  #000000;\n",
       "        }#T_a0606d58_2ffa_11eb_adc5_28d244660669row2_col0{\n",
       "            background-color:  #88abfd;\n",
       "            color:  #000000;\n",
       "        }#T_a0606d58_2ffa_11eb_adc5_28d244660669row2_col1{\n",
       "            background-color:  #5b7ae5;\n",
       "            color:  #000000;\n",
       "        }#T_a0606d58_2ffa_11eb_adc5_28d244660669row2_col3{\n",
       "            background-color:  #5f7fe8;\n",
       "            color:  #000000;\n",
       "        }#T_a0606d58_2ffa_11eb_adc5_28d244660669row2_col4,#T_a0606d58_2ffa_11eb_adc5_28d244660669row6_col3{\n",
       "            background-color:  #4055c8;\n",
       "            color:  #f1f1f1;\n",
       "        }#T_a0606d58_2ffa_11eb_adc5_28d244660669row2_col5{\n",
       "            background-color:  #92b4fe;\n",
       "            color:  #000000;\n",
       "        }#T_a0606d58_2ffa_11eb_adc5_28d244660669row2_col6{\n",
       "            background-color:  #4358cb;\n",
       "            color:  #f1f1f1;\n",
       "        }#T_a0606d58_2ffa_11eb_adc5_28d244660669row2_col7{\n",
       "            background-color:  #a1c0ff;\n",
       "            color:  #000000;\n",
       "        }#T_a0606d58_2ffa_11eb_adc5_28d244660669row3_col0{\n",
       "            background-color:  #5d7ce6;\n",
       "            color:  #000000;\n",
       "        }#T_a0606d58_2ffa_11eb_adc5_28d244660669row3_col1,#T_a0606d58_2ffa_11eb_adc5_28d244660669row4_col7{\n",
       "            background-color:  #516ddb;\n",
       "            color:  #000000;\n",
       "        }#T_a0606d58_2ffa_11eb_adc5_28d244660669row3_col2{\n",
       "            background-color:  #799cf8;\n",
       "            color:  #000000;\n",
       "        }#T_a0606d58_2ffa_11eb_adc5_28d244660669row3_col4,#T_a0606d58_2ffa_11eb_adc5_28d244660669row6_col5{\n",
       "            background-color:  #6485ec;\n",
       "            color:  #000000;\n",
       "        }#T_a0606d58_2ffa_11eb_adc5_28d244660669row3_col5{\n",
       "            background-color:  #e5d8d1;\n",
       "            color:  #000000;\n",
       "        }#T_a0606d58_2ffa_11eb_adc5_28d244660669row3_col6{\n",
       "            background-color:  #6384eb;\n",
       "            color:  #000000;\n",
       "        }#T_a0606d58_2ffa_11eb_adc5_28d244660669row3_col7,#T_a0606d58_2ffa_11eb_adc5_28d244660669row6_col4{\n",
       "            background-color:  #5a78e4;\n",
       "            color:  #000000;\n",
       "        }#T_a0606d58_2ffa_11eb_adc5_28d244660669row3_col8,#T_a0606d58_2ffa_11eb_adc5_28d244660669row4_col0{\n",
       "            background-color:  #4b64d5;\n",
       "            color:  #f1f1f1;\n",
       "        }#T_a0606d58_2ffa_11eb_adc5_28d244660669row4_col1{\n",
       "            background-color:  #aac7fd;\n",
       "            color:  #000000;\n",
       "        }#T_a0606d58_2ffa_11eb_adc5_28d244660669row4_col2,#T_a0606d58_2ffa_11eb_adc5_28d244660669row4_col8,#T_a0606d58_2ffa_11eb_adc5_28d244660669row7_col3{\n",
       "            background-color:  #4961d2;\n",
       "            color:  #f1f1f1;\n",
       "        }#T_a0606d58_2ffa_11eb_adc5_28d244660669row4_col3{\n",
       "            background-color:  #5470de;\n",
       "            color:  #000000;\n",
       "        }#T_a0606d58_2ffa_11eb_adc5_28d244660669row4_col5{\n",
       "            background-color:  #6f92f3;\n",
       "            color:  #000000;\n",
       "        }#T_a0606d58_2ffa_11eb_adc5_28d244660669row4_col6,#T_a0606d58_2ffa_11eb_adc5_28d244660669row7_col1{\n",
       "            background-color:  #6b8df0;\n",
       "            color:  #000000;\n",
       "        }#T_a0606d58_2ffa_11eb_adc5_28d244660669row5_col0{\n",
       "            background-color:  #4a63d3;\n",
       "            color:  #f1f1f1;\n",
       "        }#T_a0606d58_2ffa_11eb_adc5_28d244660669row5_col2{\n",
       "            background-color:  #98b9ff;\n",
       "            color:  #000000;\n",
       "        }#T_a0606d58_2ffa_11eb_adc5_28d244660669row5_col3{\n",
       "            background-color:  #dddcdc;\n",
       "            color:  #000000;\n",
       "        }#T_a0606d58_2ffa_11eb_adc5_28d244660669row5_col6{\n",
       "            background-color:  #7597f6;\n",
       "            color:  #000000;\n",
       "        }#T_a0606d58_2ffa_11eb_adc5_28d244660669row5_col8{\n",
       "            background-color:  #7295f4;\n",
       "            color:  #000000;\n",
       "        }#T_a0606d58_2ffa_11eb_adc5_28d244660669row6_col1,#T_a0606d58_2ffa_11eb_adc5_28d244660669row6_col8{\n",
       "            background-color:  #3c4ec2;\n",
       "            color:  #f1f1f1;\n",
       "        }#T_a0606d58_2ffa_11eb_adc5_28d244660669row7_col0{\n",
       "            background-color:  #ebd3c6;\n",
       "            color:  #000000;\n",
       "        }#T_a0606d58_2ffa_11eb_adc5_28d244660669row7_col2{\n",
       "            background-color:  #a7c5fe;\n",
       "            color:  #000000;\n",
       "        }#T_a0606d58_2ffa_11eb_adc5_28d244660669row7_col4{\n",
       "            background-color:  #506bda;\n",
       "            color:  #000000;\n",
       "        }#T_a0606d58_2ffa_11eb_adc5_28d244660669row7_col8{\n",
       "            background-color:  #536edd;\n",
       "            color:  #000000;\n",
       "        }#T_a0606d58_2ffa_11eb_adc5_28d244660669row8_col1{\n",
       "            background-color:  #c6d6f1;\n",
       "            color:  #000000;\n",
       "        }#T_a0606d58_2ffa_11eb_adc5_28d244660669row8_col2{\n",
       "            background-color:  #7093f3;\n",
       "            color:  #000000;\n",
       "        }#T_a0606d58_2ffa_11eb_adc5_28d244660669row8_col3{\n",
       "            background-color:  #6788ee;\n",
       "            color:  #000000;\n",
       "        }#T_a0606d58_2ffa_11eb_adc5_28d244660669row8_col4{\n",
       "            background-color:  #7699f6;\n",
       "            color:  #000000;\n",
       "        }#T_a0606d58_2ffa_11eb_adc5_28d244660669row8_col5{\n",
       "            background-color:  #9dbdff;\n",
       "            color:  #000000;\n",
       "        }#T_a0606d58_2ffa_11eb_adc5_28d244660669row8_col6{\n",
       "            background-color:  #7a9df8;\n",
       "            color:  #000000;\n",
       "        }</style><table id=\"T_a0606d58_2ffa_11eb_adc5_28d244660669\" ><thead>    <tr>        <th class=\"blank level0\" ></th>        <th class=\"col_heading level0 col0\" >Pregnancies</th>        <th class=\"col_heading level0 col1\" >Glucose</th>        <th class=\"col_heading level0 col2\" >BloodPressure</th>        <th class=\"col_heading level0 col3\" >SkinThickness</th>        <th class=\"col_heading level0 col4\" >Insulin</th>        <th class=\"col_heading level0 col5\" >BMI</th>        <th class=\"col_heading level0 col6\" >DiabetesPedigreeFunction</th>        <th class=\"col_heading level0 col7\" >Age</th>        <th class=\"col_heading level0 col8\" >Outcome</th>    </tr></thead><tbody>\n",
       "                <tr>\n",
       "                        <th id=\"T_a0606d58_2ffa_11eb_adc5_28d244660669level0_row0\" class=\"row_heading level0 row0\" >Pregnancies</th>\n",
       "                        <td id=\"T_a0606d58_2ffa_11eb_adc5_28d244660669row0_col0\" class=\"data row0 col0\" >1.00</td>\n",
       "                        <td id=\"T_a0606d58_2ffa_11eb_adc5_28d244660669row0_col1\" class=\"data row0 col1\" >0.13</td>\n",
       "                        <td id=\"T_a0606d58_2ffa_11eb_adc5_28d244660669row0_col2\" class=\"data row0 col2\" >0.21</td>\n",
       "                        <td id=\"T_a0606d58_2ffa_11eb_adc5_28d244660669row0_col3\" class=\"data row0 col3\" >0.08</td>\n",
       "                        <td id=\"T_a0606d58_2ffa_11eb_adc5_28d244660669row0_col4\" class=\"data row0 col4\" >0.03</td>\n",
       "                        <td id=\"T_a0606d58_2ffa_11eb_adc5_28d244660669row0_col5\" class=\"data row0 col5\" >0.02</td>\n",
       "                        <td id=\"T_a0606d58_2ffa_11eb_adc5_28d244660669row0_col6\" class=\"data row0 col6\" >-0.04</td>\n",
       "                        <td id=\"T_a0606d58_2ffa_11eb_adc5_28d244660669row0_col7\" class=\"data row0 col7\" >0.55</td>\n",
       "                        <td id=\"T_a0606d58_2ffa_11eb_adc5_28d244660669row0_col8\" class=\"data row0 col8\" >0.22</td>\n",
       "            </tr>\n",
       "            <tr>\n",
       "                        <th id=\"T_a0606d58_2ffa_11eb_adc5_28d244660669level0_row1\" class=\"row_heading level0 row1\" >Glucose</th>\n",
       "                        <td id=\"T_a0606d58_2ffa_11eb_adc5_28d244660669row1_col0\" class=\"data row1 col0\" >0.13</td>\n",
       "                        <td id=\"T_a0606d58_2ffa_11eb_adc5_28d244660669row1_col1\" class=\"data row1 col1\" >1.00</td>\n",
       "                        <td id=\"T_a0606d58_2ffa_11eb_adc5_28d244660669row1_col2\" class=\"data row1 col2\" >0.22</td>\n",
       "                        <td id=\"T_a0606d58_2ffa_11eb_adc5_28d244660669row1_col3\" class=\"data row1 col3\" >0.19</td>\n",
       "                        <td id=\"T_a0606d58_2ffa_11eb_adc5_28d244660669row1_col4\" class=\"data row1 col4\" >0.42</td>\n",
       "                        <td id=\"T_a0606d58_2ffa_11eb_adc5_28d244660669row1_col5\" class=\"data row1 col5\" >0.23</td>\n",
       "                        <td id=\"T_a0606d58_2ffa_11eb_adc5_28d244660669row1_col6\" class=\"data row1 col6\" >0.13</td>\n",
       "                        <td id=\"T_a0606d58_2ffa_11eb_adc5_28d244660669row1_col7\" class=\"data row1 col7\" >0.26</td>\n",
       "                        <td id=\"T_a0606d58_2ffa_11eb_adc5_28d244660669row1_col8\" class=\"data row1 col8\" >0.49</td>\n",
       "            </tr>\n",
       "            <tr>\n",
       "                        <th id=\"T_a0606d58_2ffa_11eb_adc5_28d244660669level0_row2\" class=\"row_heading level0 row2\" >BloodPressure</th>\n",
       "                        <td id=\"T_a0606d58_2ffa_11eb_adc5_28d244660669row2_col0\" class=\"data row2 col0\" >0.21</td>\n",
       "                        <td id=\"T_a0606d58_2ffa_11eb_adc5_28d244660669row2_col1\" class=\"data row2 col1\" >0.22</td>\n",
       "                        <td id=\"T_a0606d58_2ffa_11eb_adc5_28d244660669row2_col2\" class=\"data row2 col2\" >1.00</td>\n",
       "                        <td id=\"T_a0606d58_2ffa_11eb_adc5_28d244660669row2_col3\" class=\"data row2 col3\" >0.19</td>\n",
       "                        <td id=\"T_a0606d58_2ffa_11eb_adc5_28d244660669row2_col4\" class=\"data row2 col4\" >0.04</td>\n",
       "                        <td id=\"T_a0606d58_2ffa_11eb_adc5_28d244660669row2_col5\" class=\"data row2 col5\" >0.28</td>\n",
       "                        <td id=\"T_a0606d58_2ffa_11eb_adc5_28d244660669row2_col6\" class=\"data row2 col6\" >-0.00</td>\n",
       "                        <td id=\"T_a0606d58_2ffa_11eb_adc5_28d244660669row2_col7\" class=\"data row2 col7\" >0.32</td>\n",
       "                        <td id=\"T_a0606d58_2ffa_11eb_adc5_28d244660669row2_col8\" class=\"data row2 col8\" >0.16</td>\n",
       "            </tr>\n",
       "            <tr>\n",
       "                        <th id=\"T_a0606d58_2ffa_11eb_adc5_28d244660669level0_row3\" class=\"row_heading level0 row3\" >SkinThickness</th>\n",
       "                        <td id=\"T_a0606d58_2ffa_11eb_adc5_28d244660669row3_col0\" class=\"data row3 col0\" >0.08</td>\n",
       "                        <td id=\"T_a0606d58_2ffa_11eb_adc5_28d244660669row3_col1\" class=\"data row3 col1\" >0.19</td>\n",
       "                        <td id=\"T_a0606d58_2ffa_11eb_adc5_28d244660669row3_col2\" class=\"data row3 col2\" >0.19</td>\n",
       "                        <td id=\"T_a0606d58_2ffa_11eb_adc5_28d244660669row3_col3\" class=\"data row3 col3\" >1.00</td>\n",
       "                        <td id=\"T_a0606d58_2ffa_11eb_adc5_28d244660669row3_col4\" class=\"data row3 col4\" >0.16</td>\n",
       "                        <td id=\"T_a0606d58_2ffa_11eb_adc5_28d244660669row3_col5\" class=\"data row3 col5\" >0.54</td>\n",
       "                        <td id=\"T_a0606d58_2ffa_11eb_adc5_28d244660669row3_col6\" class=\"data row3 col6\" >0.10</td>\n",
       "                        <td id=\"T_a0606d58_2ffa_11eb_adc5_28d244660669row3_col7\" class=\"data row3 col7\" >0.13</td>\n",
       "                        <td id=\"T_a0606d58_2ffa_11eb_adc5_28d244660669row3_col8\" class=\"data row3 col8\" >0.21</td>\n",
       "            </tr>\n",
       "            <tr>\n",
       "                        <th id=\"T_a0606d58_2ffa_11eb_adc5_28d244660669level0_row4\" class=\"row_heading level0 row4\" >Insulin</th>\n",
       "                        <td id=\"T_a0606d58_2ffa_11eb_adc5_28d244660669row4_col0\" class=\"data row4 col0\" >0.03</td>\n",
       "                        <td id=\"T_a0606d58_2ffa_11eb_adc5_28d244660669row4_col1\" class=\"data row4 col1\" >0.42</td>\n",
       "                        <td id=\"T_a0606d58_2ffa_11eb_adc5_28d244660669row4_col2\" class=\"data row4 col2\" >0.04</td>\n",
       "                        <td id=\"T_a0606d58_2ffa_11eb_adc5_28d244660669row4_col3\" class=\"data row4 col3\" >0.16</td>\n",
       "                        <td id=\"T_a0606d58_2ffa_11eb_adc5_28d244660669row4_col4\" class=\"data row4 col4\" >1.00</td>\n",
       "                        <td id=\"T_a0606d58_2ffa_11eb_adc5_28d244660669row4_col5\" class=\"data row4 col5\" >0.18</td>\n",
       "                        <td id=\"T_a0606d58_2ffa_11eb_adc5_28d244660669row4_col6\" class=\"data row4 col6\" >0.13</td>\n",
       "                        <td id=\"T_a0606d58_2ffa_11eb_adc5_28d244660669row4_col7\" class=\"data row4 col7\" >0.10</td>\n",
       "                        <td id=\"T_a0606d58_2ffa_11eb_adc5_28d244660669row4_col8\" class=\"data row4 col8\" >0.20</td>\n",
       "            </tr>\n",
       "            <tr>\n",
       "                        <th id=\"T_a0606d58_2ffa_11eb_adc5_28d244660669level0_row5\" class=\"row_heading level0 row5\" >BMI</th>\n",
       "                        <td id=\"T_a0606d58_2ffa_11eb_adc5_28d244660669row5_col0\" class=\"data row5 col0\" >0.02</td>\n",
       "                        <td id=\"T_a0606d58_2ffa_11eb_adc5_28d244660669row5_col1\" class=\"data row5 col1\" >0.23</td>\n",
       "                        <td id=\"T_a0606d58_2ffa_11eb_adc5_28d244660669row5_col2\" class=\"data row5 col2\" >0.28</td>\n",
       "                        <td id=\"T_a0606d58_2ffa_11eb_adc5_28d244660669row5_col3\" class=\"data row5 col3\" >0.54</td>\n",
       "                        <td id=\"T_a0606d58_2ffa_11eb_adc5_28d244660669row5_col4\" class=\"data row5 col4\" >0.18</td>\n",
       "                        <td id=\"T_a0606d58_2ffa_11eb_adc5_28d244660669row5_col5\" class=\"data row5 col5\" >1.00</td>\n",
       "                        <td id=\"T_a0606d58_2ffa_11eb_adc5_28d244660669row5_col6\" class=\"data row5 col6\" >0.15</td>\n",
       "                        <td id=\"T_a0606d58_2ffa_11eb_adc5_28d244660669row5_col7\" class=\"data row5 col7\" >0.02</td>\n",
       "                        <td id=\"T_a0606d58_2ffa_11eb_adc5_28d244660669row5_col8\" class=\"data row5 col8\" >0.31</td>\n",
       "            </tr>\n",
       "            <tr>\n",
       "                        <th id=\"T_a0606d58_2ffa_11eb_adc5_28d244660669level0_row6\" class=\"row_heading level0 row6\" >DiabetesPedigreeFunction</th>\n",
       "                        <td id=\"T_a0606d58_2ffa_11eb_adc5_28d244660669row6_col0\" class=\"data row6 col0\" >-0.04</td>\n",
       "                        <td id=\"T_a0606d58_2ffa_11eb_adc5_28d244660669row6_col1\" class=\"data row6 col1\" >0.13</td>\n",
       "                        <td id=\"T_a0606d58_2ffa_11eb_adc5_28d244660669row6_col2\" class=\"data row6 col2\" >-0.00</td>\n",
       "                        <td id=\"T_a0606d58_2ffa_11eb_adc5_28d244660669row6_col3\" class=\"data row6 col3\" >0.10</td>\n",
       "                        <td id=\"T_a0606d58_2ffa_11eb_adc5_28d244660669row6_col4\" class=\"data row6 col4\" >0.13</td>\n",
       "                        <td id=\"T_a0606d58_2ffa_11eb_adc5_28d244660669row6_col5\" class=\"data row6 col5\" >0.15</td>\n",
       "                        <td id=\"T_a0606d58_2ffa_11eb_adc5_28d244660669row6_col6\" class=\"data row6 col6\" >1.00</td>\n",
       "                        <td id=\"T_a0606d58_2ffa_11eb_adc5_28d244660669row6_col7\" class=\"data row6 col7\" >0.03</td>\n",
       "                        <td id=\"T_a0606d58_2ffa_11eb_adc5_28d244660669row6_col8\" class=\"data row6 col8\" >0.17</td>\n",
       "            </tr>\n",
       "            <tr>\n",
       "                        <th id=\"T_a0606d58_2ffa_11eb_adc5_28d244660669level0_row7\" class=\"row_heading level0 row7\" >Age</th>\n",
       "                        <td id=\"T_a0606d58_2ffa_11eb_adc5_28d244660669row7_col0\" class=\"data row7 col0\" >0.55</td>\n",
       "                        <td id=\"T_a0606d58_2ffa_11eb_adc5_28d244660669row7_col1\" class=\"data row7 col1\" >0.26</td>\n",
       "                        <td id=\"T_a0606d58_2ffa_11eb_adc5_28d244660669row7_col2\" class=\"data row7 col2\" >0.32</td>\n",
       "                        <td id=\"T_a0606d58_2ffa_11eb_adc5_28d244660669row7_col3\" class=\"data row7 col3\" >0.13</td>\n",
       "                        <td id=\"T_a0606d58_2ffa_11eb_adc5_28d244660669row7_col4\" class=\"data row7 col4\" >0.10</td>\n",
       "                        <td id=\"T_a0606d58_2ffa_11eb_adc5_28d244660669row7_col5\" class=\"data row7 col5\" >0.02</td>\n",
       "                        <td id=\"T_a0606d58_2ffa_11eb_adc5_28d244660669row7_col6\" class=\"data row7 col6\" >0.03</td>\n",
       "                        <td id=\"T_a0606d58_2ffa_11eb_adc5_28d244660669row7_col7\" class=\"data row7 col7\" >1.00</td>\n",
       "                        <td id=\"T_a0606d58_2ffa_11eb_adc5_28d244660669row7_col8\" class=\"data row7 col8\" >0.23</td>\n",
       "            </tr>\n",
       "            <tr>\n",
       "                        <th id=\"T_a0606d58_2ffa_11eb_adc5_28d244660669level0_row8\" class=\"row_heading level0 row8\" >Outcome</th>\n",
       "                        <td id=\"T_a0606d58_2ffa_11eb_adc5_28d244660669row8_col0\" class=\"data row8 col0\" >0.22</td>\n",
       "                        <td id=\"T_a0606d58_2ffa_11eb_adc5_28d244660669row8_col1\" class=\"data row8 col1\" >0.49</td>\n",
       "                        <td id=\"T_a0606d58_2ffa_11eb_adc5_28d244660669row8_col2\" class=\"data row8 col2\" >0.16</td>\n",
       "                        <td id=\"T_a0606d58_2ffa_11eb_adc5_28d244660669row8_col3\" class=\"data row8 col3\" >0.21</td>\n",
       "                        <td id=\"T_a0606d58_2ffa_11eb_adc5_28d244660669row8_col4\" class=\"data row8 col4\" >0.20</td>\n",
       "                        <td id=\"T_a0606d58_2ffa_11eb_adc5_28d244660669row8_col5\" class=\"data row8 col5\" >0.31</td>\n",
       "                        <td id=\"T_a0606d58_2ffa_11eb_adc5_28d244660669row8_col6\" class=\"data row8 col6\" >0.17</td>\n",
       "                        <td id=\"T_a0606d58_2ffa_11eb_adc5_28d244660669row8_col7\" class=\"data row8 col7\" >0.23</td>\n",
       "                        <td id=\"T_a0606d58_2ffa_11eb_adc5_28d244660669row8_col8\" class=\"data row8 col8\" >1.00</td>\n",
       "            </tr>\n",
       "    </tbody></table>"
      ],
      "text/plain": [
       "<pandas.io.formats.style.Styler at 0x680e3654e0>"
      ]
     },
     "execution_count": 35,
     "metadata": {},
     "output_type": "execute_result"
    }
   ],
   "source": [
    "#After Imputation, we will check the correlation again. does it change or not?\n",
    "diabetes_data_copy_corr=diabetes_data_copy.corr()\n",
    "diabetes_data_copy_corr.style.background_gradient(cmap='coolwarm').set_precision(2)"
   ]
  },
  {
   "cell_type": "markdown",
   "metadata": {},
   "source": [
    "# Final Conclusion\n",
    "\n",
    "\n",
    "\n",
    "1)The dataset have nine attributes(parameters) in which there are eight independent variables (Pregnancies,Glucose,Blood Pressure,SkinThickness,Insulin,BMI,DiabetesPedigreeFunction,Age) and one dependent variable (Outcome).\n",
    "\n",
    "2)BMI and DiabetesPedigreeFunction are a float data type and other parameters are integer data type.\n",
    "\n",
    "3)The parameters do not contain any null values (missing values). However, this can not be true. As Insulin,SkinThickness,BloodPressure,BMI,Glucose have zero values.\n",
    "\n",
    "4)The Outcome parameter shows that there are 500 healthy people and 268 Diabetic people.It means that 65% people are healthy and 34.9% people are diabetic.\n",
    "\n",
    "5)The parameters Glucose, BloodPressure, BMI are normally distributed. Pregnancies,Insulin,Age,DiabetesPedigreeFunction are rightly skewed.\n",
    "\n",
    "6)The missing values '0' is replaced by the mean and median of the parameter to explore the dataset.\n",
    "\n",
    "7)BloodPressure,SkinThickness,Insulin,BMI have outliers.\n",
    "\n",
    "8)There are no convincing relationship between the parameters.Pregnancies and age have some relationship. Skin Thickness and BMI have some relation also. Most of the aged people have BloodPressure. Higher the Insulin and higher the Glucose.\n",
    "\n",
    "9)Glucose, Age and BMI are the most Correlated features with the Outcome.Insulin and DiabetesPedigreeFunction have little correlation with the outcome. BloodPressure and SkinThickness have tiny correlation with the outcome.\n",
    "Age and Pregnancies, BMI and Skin Thickness,Insulin and Glucose are most correlated parameters.\n",
    "\n",
    "10)The midle aged person is most likely to be diabetic than the young person.\n",
    "\n",
    "11)After Pregnancy people have more chance of diabeties.\n",
    "\n",
    "12)People with high Glucose level are more likely to have diabeties.\n",
    "\n",
    "13)People with high BloodPressure have more chance of diabeties.\n",
    "\n",
    "14)People with high Insulin level are more likely to have Diabetes."
   ]
  },
  {
   "cell_type": "markdown",
   "metadata": {},
   "source": [
    "Now we will divide the dataset into train and test"
   ]
  },
  {
   "cell_type": "code",
   "execution_count": 36,
   "metadata": {},
   "outputs": [],
   "source": [
    "from sklearn.model_selection import train_test_split"
   ]
  },
  {
   "cell_type": "code",
   "execution_count": 37,
   "metadata": {},
   "outputs": [],
   "source": [
    "#Dividing into predictors and target.\n",
    "X=diabetes_data_copy[['Pregnancies','Glucose',\n",
    "                      'BloodPressure','SkinThickness','Insulin', 'BMI','DiabetesPedigreeFunction','Age']]\n",
    "Y=diabetes_data_copy['Outcome']"
   ]
  },
  {
   "cell_type": "code",
   "execution_count": 38,
   "metadata": {},
   "outputs": [],
   "source": [
    "#dividing into train and test dataset\n",
    "#Dividing the dataset into same strata as it is in original dataset.\n",
    "X_train,X_test,Y_train,Y_test = train_test_split(X,Y,test_size=0.3,stratify=Y,random_state=92)"
   ]
  },
  {
   "cell_type": "markdown",
   "metadata": {},
   "source": [
    "Why Scaling the data for KNN?\n",
    "\n",
    "it is always advisable to bring all the features to the same scale for applying distance based algorithms like KNN.\n",
    "\n",
    "\n",
    "We can imagine how the feature with larger range will overshadow the smaller range feature completely and this will impact the performance of all distance based model as larger range features will have the larger weightage than the smaller range features."
   ]
  },
  {
   "cell_type": "code",
   "execution_count": 39,
   "metadata": {},
   "outputs": [],
   "source": [
    "#Scaling the dataset \n",
    "\n",
    "from sklearn.preprocessing import StandardScaler\n",
    "\n",
    "X_train =  pd.DataFrame(StandardScaler().fit_transform (X_train))\n",
    "X_test =   pd.DataFrame(StandardScaler().fit_transform (X_test))"
   ]
  },
  {
   "cell_type": "code",
   "execution_count": 40,
   "metadata": {},
   "outputs": [],
   "source": [
    "X_train.columns=['Pregnancies', 'Glucose', 'BloodPressure', 'SkinThickness', 'Insulin',\n",
    "       'BMI', 'DiabetesPedigreeFunction', 'Age']\n",
    "X_test.columns=['Pregnancies', 'Glucose', 'BloodPressure', 'SkinThickness', 'Insulin',\n",
    "       'BMI', 'DiabetesPedigreeFunction', 'Age']"
   ]
  },
  {
   "cell_type": "code",
   "execution_count": 41,
   "metadata": {},
   "outputs": [
    {
     "data": {
      "text/html": [
       "<div>\n",
       "<style scoped>\n",
       "    .dataframe tbody tr th:only-of-type {\n",
       "        vertical-align: middle;\n",
       "    }\n",
       "\n",
       "    .dataframe tbody tr th {\n",
       "        vertical-align: top;\n",
       "    }\n",
       "\n",
       "    .dataframe thead th {\n",
       "        text-align: right;\n",
       "    }\n",
       "</style>\n",
       "<table border=\"1\" class=\"dataframe\">\n",
       "  <thead>\n",
       "    <tr style=\"text-align: right;\">\n",
       "      <th></th>\n",
       "      <th>Pregnancies</th>\n",
       "      <th>Glucose</th>\n",
       "      <th>BloodPressure</th>\n",
       "      <th>SkinThickness</th>\n",
       "      <th>Insulin</th>\n",
       "      <th>BMI</th>\n",
       "      <th>DiabetesPedigreeFunction</th>\n",
       "      <th>Age</th>\n",
       "    </tr>\n",
       "  </thead>\n",
       "  <tbody>\n",
       "    <tr>\n",
       "      <th>10</th>\n",
       "      <td>0.308536</td>\n",
       "      <td>0.096673</td>\n",
       "      <td>0.448722</td>\n",
       "      <td>-0.229453</td>\n",
       "      <td>-1.359510</td>\n",
       "      <td>-0.390760</td>\n",
       "      <td>-0.155006</td>\n",
       "      <td>0.511933</td>\n",
       "    </tr>\n",
       "    <tr>\n",
       "      <th>289</th>\n",
       "      <td>0.014454</td>\n",
       "      <td>0.064509</td>\n",
       "      <td>0.613351</td>\n",
       "      <td>-0.013281</td>\n",
       "      <td>-0.205127</td>\n",
       "      <td>-0.000464</td>\n",
       "      <td>0.116985</td>\n",
       "      <td>-0.563376</td>\n",
       "    </tr>\n",
       "    <tr>\n",
       "      <th>446</th>\n",
       "      <td>2.661192</td>\n",
       "      <td>0.707778</td>\n",
       "      <td>0.777979</td>\n",
       "      <td>-1.094142</td>\n",
       "      <td>-0.373241</td>\n",
       "      <td>-1.460460</td>\n",
       "      <td>-0.698987</td>\n",
       "      <td>1.918107</td>\n",
       "    </tr>\n",
       "  </tbody>\n",
       "</table>\n",
       "</div>"
      ],
      "text/plain": [
       "     Pregnancies   Glucose  BloodPressure  SkinThickness   Insulin       BMI  \\\n",
       "10      0.308536  0.096673       0.448722      -0.229453 -1.359510 -0.390760   \n",
       "289     0.014454  0.064509       0.613351      -0.013281 -0.205127 -0.000464   \n",
       "446     2.661192  0.707778       0.777979      -1.094142 -0.373241 -1.460460   \n",
       "\n",
       "     DiabetesPedigreeFunction       Age  \n",
       "10                  -0.155006  0.511933  \n",
       "289                  0.116985 -0.563376  \n",
       "446                 -0.698987  1.918107  "
      ]
     },
     "execution_count": 41,
     "metadata": {},
     "output_type": "execute_result"
    }
   ],
   "source": [
    "X_train.sample(3)"
   ]
  },
  {
   "cell_type": "code",
   "execution_count": 42,
   "metadata": {},
   "outputs": [
    {
     "data": {
      "text/html": [
       "<div>\n",
       "<style scoped>\n",
       "    .dataframe tbody tr th:only-of-type {\n",
       "        vertical-align: middle;\n",
       "    }\n",
       "\n",
       "    .dataframe tbody tr th {\n",
       "        vertical-align: top;\n",
       "    }\n",
       "\n",
       "    .dataframe thead th {\n",
       "        text-align: right;\n",
       "    }\n",
       "</style>\n",
       "<table border=\"1\" class=\"dataframe\">\n",
       "  <thead>\n",
       "    <tr style=\"text-align: right;\">\n",
       "      <th></th>\n",
       "      <th>Pregnancies</th>\n",
       "      <th>Glucose</th>\n",
       "      <th>BloodPressure</th>\n",
       "      <th>SkinThickness</th>\n",
       "      <th>Insulin</th>\n",
       "      <th>BMI</th>\n",
       "      <th>DiabetesPedigreeFunction</th>\n",
       "      <th>Age</th>\n",
       "    </tr>\n",
       "  </thead>\n",
       "  <tbody>\n",
       "    <tr>\n",
       "      <th>179</th>\n",
       "      <td>1.033041</td>\n",
       "      <td>-0.362146</td>\n",
       "      <td>0.644964</td>\n",
       "      <td>0.254357</td>\n",
       "      <td>-0.127330</td>\n",
       "      <td>0.454166</td>\n",
       "      <td>2.671700</td>\n",
       "      <td>0.981138</td>\n",
       "    </tr>\n",
       "    <tr>\n",
       "      <th>32</th>\n",
       "      <td>-1.091615</td>\n",
       "      <td>2.128494</td>\n",
       "      <td>1.305530</td>\n",
       "      <td>1.929723</td>\n",
       "      <td>4.620757</td>\n",
       "      <td>1.533108</td>\n",
       "      <td>-0.790627</td>\n",
       "      <td>-0.569164</td>\n",
       "    </tr>\n",
       "    <tr>\n",
       "      <th>168</th>\n",
       "      <td>-1.091615</td>\n",
       "      <td>2.405231</td>\n",
       "      <td>2.626663</td>\n",
       "      <td>-0.518889</td>\n",
       "      <td>-0.127330</td>\n",
       "      <td>0.220881</td>\n",
       "      <td>0.024263</td>\n",
       "      <td>0.798750</td>\n",
       "    </tr>\n",
       "  </tbody>\n",
       "</table>\n",
       "</div>"
      ],
      "text/plain": [
       "     Pregnancies   Glucose  BloodPressure  SkinThickness   Insulin       BMI  \\\n",
       "179     1.033041 -0.362146       0.644964       0.254357 -0.127330  0.454166   \n",
       "32     -1.091615  2.128494       1.305530       1.929723  4.620757  1.533108   \n",
       "168    -1.091615  2.405231       2.626663      -0.518889 -0.127330  0.220881   \n",
       "\n",
       "     DiabetesPedigreeFunction       Age  \n",
       "179                  2.671700  0.981138  \n",
       "32                  -0.790627 -0.569164  \n",
       "168                  0.024263  0.798750  "
      ]
     },
     "execution_count": 42,
     "metadata": {},
     "output_type": "execute_result"
    }
   ],
   "source": [
    "X_test.sample(3)"
   ]
  },
  {
   "cell_type": "code",
   "execution_count": 43,
   "metadata": {},
   "outputs": [],
   "source": [
    "#from here we will find out the the value of K \n",
    "from sklearn.neighbors import KNeighborsClassifier\n",
    "\n",
    "\n",
    "test_scores = []\n",
    "train_scores = []\n",
    "\n",
    "for i in range(1,15):\n",
    "\n",
    "    knn = KNeighborsClassifier(i)\n",
    "    knn.fit(X_train,Y_train)\n",
    "    \n",
    "    train_scores.append(knn.score(X_train,Y_train))   #pred_y == trainY so 100% score\n",
    "    \n",
    "     #how many predY will be equal to the testY so it will have different score 76% and all\n",
    "    test_scores.append(knn.score(X_test,Y_test))     "
   ]
  },
  {
   "cell_type": "code",
   "execution_count": 44,
   "metadata": {},
   "outputs": [
    {
     "data": {
      "text/plain": [
       "[1.0,\n",
       " 0.8412098298676749,\n",
       " 0.8449905482041588,\n",
       " 0.8109640831758034,\n",
       " 0.8260869565217391,\n",
       " 0.7996219281663516,\n",
       " 0.8128544423440454,\n",
       " 0.7958412098298677,\n",
       " 0.7863894139886578,\n",
       " 0.782608695652174,\n",
       " 0.7901701323251418,\n",
       " 0.7882797731568998,\n",
       " 0.7863894139886578,\n",
       " 0.7939508506616257]"
      ]
     },
     "execution_count": 44,
     "metadata": {},
     "output_type": "execute_result"
    }
   ],
   "source": [
    "train_scores #score is max at K=1 i.e 1 or 100%\n",
    "\n",
    "#score for training points will be 100% always as you are checking same points you trained with.\n",
    "#(i.e. distance between point you are scoring is zero,\n",
    "#as it already exists in your model (KNN) (when u fit))."
   ]
  },
  {
   "cell_type": "code",
   "execution_count": 45,
   "metadata": {},
   "outputs": [
    {
     "data": {
      "text/plain": [
       "[0.6973684210526315,\n",
       " 0.7192982456140351,\n",
       " 0.7149122807017544,\n",
       " 0.7324561403508771,\n",
       " 0.7324561403508771,\n",
       " 0.7412280701754386,\n",
       " 0.7456140350877193,\n",
       " 0.7324561403508771,\n",
       " 0.7368421052631579,\n",
       " 0.7631578947368421,\n",
       " 0.7368421052631579,\n",
       " 0.75,\n",
       " 0.75,\n",
       " 0.7543859649122807]"
      ]
     },
     "execution_count": 45,
     "metadata": {},
     "output_type": "execute_result"
    }
   ],
   "source": [
    "#K will be that which has the highest test score or accuracy.here k=10\n",
    "test_scores #score is max at k=11 i.e 0.7631 or 76.31%"
   ]
  },
  {
   "cell_type": "code",
   "execution_count": 46,
   "metadata": {},
   "outputs": [
    {
     "data": {
      "image/png": "[encoded data removed]",
      "text/plain": [
       "<Figure size 864x360 with 1 Axes>"
      ]
     },
     "metadata": {
      "needs_background": "light"
     },
     "output_type": "display_data"
    }
   ],
   "source": [
    "#Plot the same \n",
    "plt.figure(figsize=(12,5))\n",
    "p = sns.lineplot(range(1,15),train_scores,marker='o',label='Train Score')\n",
    "p = sns.lineplot(range(1,15),test_scores,marker='o',label='Test Score')\n"
   ]
  },
  {
   "cell_type": "markdown",
   "metadata": {},
   "source": [
    "From here we will take k =10"
   ]
  },
  {
   "cell_type": "code",
   "execution_count": 150,
   "metadata": {},
   "outputs": [
    {
     "data": {
      "text/plain": [
       "0.7631578947368421"
      ]
     },
     "execution_count": 150,
     "metadata": {},
     "output_type": "execute_result"
    }
   ],
   "source": [
    "#Setup a knn classifier with k neighbors\n",
    "#knn = KNeighborsClassifier(10)\n",
    "\n",
    "#knn.fit(X_train,Y_train)\n",
    "#knn.score(X_test,Y_test)"
   ]
  },
  {
   "cell_type": "code",
   "execution_count": 49,
   "metadata": {},
   "outputs": [],
   "source": [
    "from sklearn.metrics import accuracy_score"
   ]
  },
  {
   "cell_type": "code",
   "execution_count": 50,
   "metadata": {},
   "outputs": [
    {
     "data": {
      "text/plain": [
       "0.7631578947368421"
      ]
     },
     "execution_count": 50,
     "metadata": {},
     "output_type": "execute_result"
    }
   ],
   "source": [
    "#2nd method\n",
    "knn=KNeighborsClassifier(10)\n",
    "knn.fit(X_train,Y_train)\n",
    "Y_pred=knn.predict(X_test)\n",
    "acc = accuracy_score(Y_test, Y_pred)\n",
    "acc"
   ]
  },
  {
   "cell_type": "markdown",
   "metadata": {},
   "source": [
    "A confusion matrix is a table that is used to describe the performance of a classification model (or \"classifier\") on a set of test data for which the true values are known.\n",
    "\n",
    "True Positives(TP)(130): These are cases in which we predicted yes (they have the disease), and they do have the disease.\n",
    "True Negatives(TN) (44): We predicted no, and they don't have the disease.\n",
    "False Positives(FP) (36): We predicted yes, but they don't actually have the disease. (Also known as a \"Type I error.\")\n",
    "False Negatives(FN)(18): We predicted no, but they actually do have the disease. (Also known as a \"Type II error.\")"
   ]
  },
  {
   "cell_type": "code",
   "execution_count": 52,
   "metadata": {},
   "outputs": [
    {
     "data": {
      "text/plain": [
       "array([[130,  18],\n",
       "       [ 36,  44]], dtype=int64)"
      ]
     },
     "execution_count": 52,
     "metadata": {},
     "output_type": "execute_result"
    }
   ],
   "source": [
    "from sklearn.metrics import confusion_matrix\n",
    "c=confusion_matrix(Y_test, Y_pred)\n",
    "c"
   ]
  },
  {
   "cell_type": "code",
   "execution_count": 53,
   "metadata": {},
   "outputs": [
    {
     "data": {
      "text/html": [
       "<div>\n",
       "<style scoped>\n",
       "    .dataframe tbody tr th:only-of-type {\n",
       "        vertical-align: middle;\n",
       "    }\n",
       "\n",
       "    .dataframe tbody tr th {\n",
       "        vertical-align: top;\n",
       "    }\n",
       "\n",
       "    .dataframe thead th {\n",
       "        text-align: right;\n",
       "    }\n",
       "</style>\n",
       "<table border=\"1\" class=\"dataframe\">\n",
       "  <thead>\n",
       "    <tr style=\"text-align: right;\">\n",
       "      <th>Predicted</th>\n",
       "      <th>0</th>\n",
       "      <th>1</th>\n",
       "      <th>All</th>\n",
       "    </tr>\n",
       "    <tr>\n",
       "      <th>Actual</th>\n",
       "      <th></th>\n",
       "      <th></th>\n",
       "      <th></th>\n",
       "    </tr>\n",
       "  </thead>\n",
       "  <tbody>\n",
       "    <tr>\n",
       "      <th>0</th>\n",
       "      <td>130</td>\n",
       "      <td>18</td>\n",
       "      <td>148</td>\n",
       "    </tr>\n",
       "    <tr>\n",
       "      <th>1</th>\n",
       "      <td>36</td>\n",
       "      <td>44</td>\n",
       "      <td>80</td>\n",
       "    </tr>\n",
       "    <tr>\n",
       "      <th>All</th>\n",
       "      <td>166</td>\n",
       "      <td>62</td>\n",
       "      <td>228</td>\n",
       "    </tr>\n",
       "  </tbody>\n",
       "</table>\n",
       "</div>"
      ],
      "text/plain": [
       "Predicted    0   1  All\n",
       "Actual                 \n",
       "0          130  18  148\n",
       "1           36  44   80\n",
       "All        166  62  228"
      ]
     },
     "execution_count": 53,
     "metadata": {},
     "output_type": "execute_result"
    }
   ],
   "source": [
    "pd.crosstab(Y_test, Y_pred, rownames=['Actual'], colnames=['Predicted'], margins=True)"
   ]
  },
  {
   "cell_type": "markdown",
   "metadata": {},
   "source": [
    "Accuracy: Overall, how often is the classifier correct?\n",
    "(TP+TN)/total = (130+44)/228 = 0.7631\n",
    "\n",
    "Misclassification Rate: Overall, how often is it wrong?\n",
    "(FP+FN)/total = (36+18)/228 = 0.2368\n",
    "equivalent to 1 minus Accuracy\n",
    "also known as \"Error Rate\"\n",
    "\n",
    "True Positive Rate: When it's actually yes, how often does it predict yes?\n",
    "TP/(TP+FN) = 130/148 = 0.8783\n",
    "also known as \"Sensitivity\" or \"Recall\"\n",
    "\n",
    "False Positive Rate: When it's actually no, how often does it predict yes?\n",
    "FP/FP+TN = 36/80 = 0.4375\n",
    "\n",
    "True Negative Rate: When it's actually no, how often does it predict no?\n",
    "TN/TN+FP = 44/80 = 0.55\n",
    "equivalent to 1 minus False Positive Rate\n",
    "also known as \"Specificity\"\n",
    "\n",
    "Precision: When it predicts yes, how often is it correct?\n",
    "TP/TP+FP = 130/166 = 0.7831\n",
    "\n",
    "F1 Score= harmonic mean(precision,recall)\n",
    "F1 Score=2 (Recall x Precision) / (Recall + Precision)\n",
    "F1 Score = 2*(.8783*.7831)/(0.8783+0.7831)=0.8279\n"
   ]
  },
  {
   "cell_type": "code",
   "execution_count": 54,
   "metadata": {},
   "outputs": [
    {
     "name": "stdout",
     "output_type": "stream",
     "text": [
      "              precision    recall  f1-score   support\n",
      "\n",
      "           0       0.78      0.88      0.83       148\n",
      "           1       0.71      0.55      0.62        80\n",
      "\n",
      "    accuracy                           0.76       228\n",
      "   macro avg       0.75      0.71      0.72       228\n",
      "weighted avg       0.76      0.76      0.75       228\n",
      "\n"
     ]
    }
   ],
   "source": [
    "from sklearn.metrics import classification_report\n",
    "print(classification_report(Y_test,Y_pred))"
   ]
  },
  {
   "cell_type": "markdown",
   "metadata": {},
   "source": [
    "Cross-validation is a resampling procedure used to evaluate machine learning models on a limited data sample.\n",
    "\n",
    "The procedure has a single parameter called k that refers to the number of groups that a given data sample is to be split into.\n",
    "\n",
    "\n"
   ]
  },
  {
   "cell_type": "code",
   "execution_count": 97,
   "metadata": {},
   "outputs": [
    {
     "name": "stdout",
     "output_type": "stream",
     "text": [
      "0.7398947368421053\n"
     ]
    }
   ],
   "source": [
    "from sklearn.model_selection import cross_val_score\n",
    "#cross_score=cross_val_score(knn, X, Y, cv=10, scoring='accuracy')\n",
    "#cross_score\n",
    "print(cross_val_score(knn, X, Y, cv=10, scoring='accuracy').mean())"
   ]
  },
  {
   "cell_type": "markdown",
   "metadata": {},
   "source": [
    "Now our model is the most fine tuned.\n",
    "\n",
    "ROC and Hyper Parameter optimization is remaining(K fold cross validation is also one example of optimization but we need to do more optimization with other methods)"
   ]
  },
  {
   "cell_type": "code",
   "execution_count": null,
   "metadata": {},
   "outputs": [],
   "source": []
  }
 ],
 "metadata": {
  "kernelspec": {
   "display_name": "Python 3",
   "language": "python",
   "name": "python3"
  },
  "language_info": {
   "codemirror_mode": {
    "name": "ipython",
    "version": 3
   },
   "file_extension": ".py",
   "mimetype": "text/x-python",
   "name": "python",
   "nbconvert_exporter": "python",
   "pygments_lexer": "ipython3",
   "version": "3.7.1"
  }
 },
 "nbformat": 4,
 "nbformat_minor": 2
}
